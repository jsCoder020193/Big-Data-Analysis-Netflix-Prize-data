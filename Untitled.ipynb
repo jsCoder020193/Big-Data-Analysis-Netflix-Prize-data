{
 "metadata": {
  "language_info": {
   "codemirror_mode": {
    "name": "ipython",
    "version": 3
   },
   "file_extension": ".py",
   "mimetype": "text/x-python",
   "name": "python",
   "nbconvert_exporter": "python",
   "pygments_lexer": "ipython3",
   "version": "3.8.0-final"
  },
  "orig_nbformat": 2,
  "kernelspec": {
   "name": "Python 3.8.0 64-bit ('env': venv)",
   "display_name": "Python 3.8.0 64-bit ('env': venv)",
   "metadata": {
    "interpreter": {
     "hash": "0a4c4745ad4b634a696b3427c4afc376eafe1af543e5c23d612bc54f320fb0ac"
    }
   }
  }
 },
 "nbformat": 4,
 "nbformat_minor": 2,
 "cells": [
  {
   "cell_type": "code",
   "execution_count": 1,
   "metadata": {
    "tags": []
   },
   "outputs": [
    {
     "output_type": "stream",
     "name": "stdout",
     "text": [
      "1.1.3\n"
     ]
    }
   ],
   "source": [
    "# import packages\n",
    "import pandas as pd\n",
    "import numpy as np\n",
    "import seaborn as sns\n",
    "\n",
    "print(pd.__version__)\n",
    "\n",
    "import matplotlib.pyplot as plt\n",
    "import matplotlib.mlab as mlab\n",
    "import matplotlib\n",
    "plt.style.use('ggplot')\n",
    "from matplotlib.pyplot import figure\n",
    "\n",
    "%matplotlib inline\n",
    "matplotlib.rcParams['figure.figsize'] = (12,8)\n",
    "\n",
    "pd.options.mode.chained_assignment = None\n"
   ]
  },
  {
   "cell_type": "code",
   "execution_count": 52,
   "metadata": {},
   "outputs": [],
   "source": [
    "import time\n",
    "import gc"
   ]
  },
  {
   "cell_type": "code",
   "execution_count": null,
   "metadata": {
    "tags": []
   },
   "outputs": [],
   "source": [
    "pd.show_versions()"
   ]
  },
  {
   "cell_type": "code",
   "execution_count": 3,
   "metadata": {},
   "outputs": [
    {
     "output_type": "stream",
     "name": "stdout",
     "text": [
      "24058263\n{548: '1', 694: '2', 2707: '3', 2850: '4', 3991: '5', 5011: '6', 5105: '7', 20016: '8', 20112: '9', 20362: '10'}\nNothing took 13.743893384933472 seconds\n"
     ]
    }
   ],
   "source": [
    "start_time = time.time()\n",
    "\n",
    "path_csv = '/Users/Subbalakshmi/Desktop/archive/combined_data_1.txt'\n",
    "movieIDIndexes = {}\n",
    "with open(path_csv) as f:\n",
    "    lines = f.readlines()\n",
    "    k = 0\n",
    "    for i in range(len(lines)):\n",
    "        if(lines[i].strip().endswith(':')):\n",
    "            if k==0:\n",
    "                firstIndex = i\n",
    "                prevValue = lines[i].strip()[:-1]\n",
    "            else:\n",
    "                movieIDIndexes[i] = prevValue\n",
    "                prevValue = lines[i].strip()[:-1]\n",
    "\n",
    "            k = k+1\n",
    "\n",
    "    print(len(lines))\n",
    "    first10pairs = {k: movieIDIndexes[k] for k in list(movieIDIndexes)[:10]}\n",
    "    print(first10pairs)\n",
    "    OmitIndexesList = list(movieIDIndexes.keys())\n",
    "    OmitIndexesList.append(firstIndex)\n",
    "    print('Nothing took '+str((time.time() - start_time))+' seconds')   \n",
    "    del start_time,prevValue,i,k,first10pairs,f,lines"
   ]
  },
  {
   "source": [
    "# read the data\n",
    "start_time = time.time()\n",
    "# df = pd.read_csv('/Users/Subbalakshmi/Desktop/archive/movie_titles2.csv',header=None, engine='python') #Movie_titles.csv\n",
    "df = pd.read_csv('/Users/Subbalakshmi/Desktop/archive/combined_data_1.txt',header=None, nrows=10000,skiprows=(lambda x: x in OmitIndexesList),parse_dates=[2],dtype={0: 'int64', 1: 'int64'})\n",
    "# ,header=None,sep=',',usecols=[0,1,2,3,4,5],,encoding='latin1',nrows=10\n",
    "\n",
    "# chunks = pd.read_csv('/Users/Subbalakshmi/Desktop/archive/combined_data_1.txt',header=None, engine='python',skiprows=(lambda x: x in OmitIndexesList),parse_dates=[2], chunksize=1000000)\n",
    "# df = pd.concat(chunks)\n",
    "print('Nothing took '+str((time.time() - start_time))+' seconds')  \n"
   ],
   "cell_type": "code",
   "metadata": {
    "tags": []
   },
   "execution_count": 17,
   "outputs": [
    {
     "output_type": "stream",
     "name": "stdout",
     "text": [
      "Nothing took 0.5965898036956787 seconds\n"
     ]
    }
   ]
  },
  {
   "cell_type": "code",
   "execution_count": 19,
   "metadata": {},
   "outputs": [
    {
     "output_type": "execute_result",
     "data": {
      "text/plain": [
       "            0  1          2\n",
       "0     1488844  3 2005-09-06\n",
       "1      822109  5 2005-05-13\n",
       "2      885013  4 2005-10-19\n",
       "3       30878  4 2005-12-26\n",
       "4      823519  3 2004-05-03\n",
       "...       ... ..        ...\n",
       "9995  2607116  2 2005-05-22\n",
       "9996  1372927  2 2005-05-23\n",
       "9997   466651  4 2005-05-25\n",
       "9998   433583  3 2005-05-27\n",
       "9999  1987931  1 2005-05-31\n",
       "\n",
       "[10000 rows x 3 columns]"
      ],
      "text/html": "<div>\n<style scoped>\n    .dataframe tbody tr th:only-of-type {\n        vertical-align: middle;\n    }\n\n    .dataframe tbody tr th {\n        vertical-align: top;\n    }\n\n    .dataframe thead th {\n        text-align: right;\n    }\n</style>\n<table border=\"1\" class=\"dataframe\">\n  <thead>\n    <tr style=\"text-align: right;\">\n      <th></th>\n      <th>0</th>\n      <th>1</th>\n      <th>2</th>\n    </tr>\n  </thead>\n  <tbody>\n    <tr>\n      <th>0</th>\n      <td>1488844</td>\n      <td>3</td>\n      <td>2005-09-06</td>\n    </tr>\n    <tr>\n      <th>1</th>\n      <td>822109</td>\n      <td>5</td>\n      <td>2005-05-13</td>\n    </tr>\n    <tr>\n      <th>2</th>\n      <td>885013</td>\n      <td>4</td>\n      <td>2005-10-19</td>\n    </tr>\n    <tr>\n      <th>3</th>\n      <td>30878</td>\n      <td>4</td>\n      <td>2005-12-26</td>\n    </tr>\n    <tr>\n      <th>4</th>\n      <td>823519</td>\n      <td>3</td>\n      <td>2004-05-03</td>\n    </tr>\n    <tr>\n      <th>...</th>\n      <td>...</td>\n      <td>...</td>\n      <td>...</td>\n    </tr>\n    <tr>\n      <th>9995</th>\n      <td>2607116</td>\n      <td>2</td>\n      <td>2005-05-22</td>\n    </tr>\n    <tr>\n      <th>9996</th>\n      <td>1372927</td>\n      <td>2</td>\n      <td>2005-05-23</td>\n    </tr>\n    <tr>\n      <th>9997</th>\n      <td>466651</td>\n      <td>4</td>\n      <td>2005-05-25</td>\n    </tr>\n    <tr>\n      <th>9998</th>\n      <td>433583</td>\n      <td>3</td>\n      <td>2005-05-27</td>\n    </tr>\n    <tr>\n      <th>9999</th>\n      <td>1987931</td>\n      <td>1</td>\n      <td>2005-05-31</td>\n    </tr>\n  </tbody>\n</table>\n<p>10000 rows × 3 columns</p>\n</div>"
     },
     "metadata": {},
     "execution_count": 19
    }
   ],
   "source": [
    "# print(df)\n",
    "# print(len(df.columns))\n",
    "df\n",
    "# print(df.index) #Print all indexes in the df\n",
    "# print(len(df.columns))\n",
    "# df.info()\n",
    "# df.dtypes"
   ]
  },
  {
   "cell_type": "code",
   "execution_count": 53,
   "metadata": {},
   "outputs": [
    {
     "output_type": "stream",
     "name": "stdout",
     "text": [
      "            0  1          2 MovieID\n0     1488844  3 2005-09-06       1\n1      822109  5 2005-05-13       1\n2      885013  4 2005-10-19       1\n3       30878  4 2005-12-26       1\n4      823519  3 2004-05-03       1\n...       ... ..        ...     ...\n9995  2607116  2 2005-05-22       8\n9996  1372927  2 2005-05-23       8\n9997   466651  4 2005-05-25       8\n9998   433583  3 2005-05-27       8\n9999  1987931  1 2005-05-31       8\n\n[10000 rows x 4 columns]\n"
     ]
    }
   ],
   "source": [
    "\n",
    "# OmitIndexesList.remove(firstIndex)\n",
    "movieIDsList = []\n",
    "for row in df.index: \n",
    "    res = list(filter(lambda i: i > row, OmitIndexesList))[0]   \n",
    "    movieIDsList.append(movieIDIndexes[res])\n",
    "df[\"MovieID\"] = movieIDsList\n",
    "del movieIDsList,movieIDIndexes,firstIndex,OmitIndexesList,res,row,start_time\n",
    "gc.collect()\n",
    "print(df)\n",
    "print(df.values[5105])"
   ]
  },
  {
   "cell_type": "code",
   "execution_count": 55,
   "metadata": {
    "tags": []
   },
   "outputs": [
    {
     "output_type": "stream",
     "name": "stdout",
     "text": [
      "(10000, 4)\n<class 'pandas.core.frame.DataFrame'>\nRangeIndex: 10000 entries, 0 to 9999\nData columns (total 4 columns):\n #   Column      Non-Null Count  Dtype         \n---  ------      --------------  -----         \n 0   CustomerID  10000 non-null  int64         \n 1   Rating      10000 non-null  int64         \n 2   Date        10000 non-null  datetime64[ns]\n 3   MovieID     10000 non-null  object        \ndtypes: datetime64[ns](1), int64(2), object(1)\nmemory usage: 312.6+ KB\n      CustomerID  Rating       Date MovieID\n0        1488844       3 2005-09-06       1\n1         822109       5 2005-05-13       1\n2         885013       4 2005-10-19       1\n3          30878       4 2005-12-26       1\n4         823519       3 2004-05-03       1\n...          ...     ...        ...     ...\n9995     2607116       2 2005-05-22       8\n9996     1372927       2 2005-05-23       8\n9997      466651       4 2005-05-25       8\n9998      433583       3 2005-05-27       8\n9999     1987931       1 2005-05-31       8\n\n[10000 rows x 4 columns]\n"
     ]
    }
   ],
   "source": [
    "\n",
    "# shape and data types of the data\n",
    "print(df.shape) #No of rows,No of columns\n",
    "# print(df.dtypes) #Describe data types of each column\n",
    "df.rename(columns={0: \"CustomerID\", 1: \"Rating\", 2:\"Date\"},inplace=True) #Rename Column Names\n",
    "df.info() #Gives overall description\n",
    "print(df)"
   ]
  },
  {
   "cell_type": "code",
   "execution_count": null,
   "metadata": {},
   "outputs": [],
   "source": [
    "df['Title'] = df[2].str.cat(df[[3,4,5]], sep='',na_rep='')\n",
    "df.drop([2,3,4,5], axis=1, inplace=True)\n",
    "df.rename(columns={0: \"MovieID\", 1: \"YearOfRelease\"},inplace=True) #Rename Column Names"
   ]
  },
  {
   "cell_type": "code",
   "execution_count": null,
   "metadata": {
    "tags": []
   },
   "outputs": [],
   "source": [
    "# df.columns = ['Name'] #Assign Column Names\n",
    "# df.rename(columns={0: \"MovieID\", 1: \"YearOfRelease\",2:\"Title\"},inplace=True) #Rename Column Names\n",
    "# print(df.values[3933]) #Convert dataframe to numpy array and print value at index 3933\n",
    "# print(df.index) #Print all indexes in the df\n",
    "# print(len(df.columns)) #Print no of columns in df\n",
    "# df[\"MovieID\"] = np.where(df[\"MovieID\"] == 1, True, False) #Modofify values in column where movieID=1 T else F\n",
    "\n",
    "# pd.to_numeric(df['YearOfRelease'], errors='coerce') #Convert the data type of column\n",
    "# df[1] = df[1].astype('int') #Convert the data type of column\n",
    "# df['Title'] = df[2].astype(str)+df[3]+df[4]+df[5] #Combine columns without any one of the columsn having NaN values\n",
    "# df['Title'] = df[[2,3,4,5]].apply(lambda x: ''.join(x?x.astype(str):''), axis=1) #Combine columns without NaN values\n",
    "# df['Title'] = df[[2,3,4,5]].agg(''.join, axis=1) #Combine columns without NaN values\n",
    "# df['Title'] = df[2].str.cat(df[[3,4,5]], sep='',na_rep='') #Combine columns with NaN values"
   ]
  },
  {
   "cell_type": "code",
   "execution_count": null,
   "metadata": {},
   "outputs": [],
   "source": [
    "cols = df.columns[:10] # first 30 columns\n",
    "colours = ['#000099', '#ffff00'] # specify the colours - yellow is missing. blue is not missing.\n",
    "sns.heatmap(df[cols].isnull(), cmap=sns.color_palette(colours))"
   ]
  },
  {
   "cell_type": "code",
   "execution_count": null,
   "metadata": {
    "tags": []
   },
   "outputs": [],
   "source": [
    "# if it's a larger dataset and the visualization takes too long can do this.\n",
    "# % of missing.\n",
    "for col in df.columns:\n",
    "    pct_missing = np.mean(df[col].isnull())\n",
    "    print('{} - {}%'.format(col, round(pct_missing*100)))"
   ]
  },
  {
   "cell_type": "code",
   "execution_count": null,
   "metadata": {},
   "outputs": [],
   "source": []
  }
 ]
}