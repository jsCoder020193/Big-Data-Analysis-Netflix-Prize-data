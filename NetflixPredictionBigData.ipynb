{
 "metadata": {
  "language_info": {
   "codemirror_mode": {
    "name": "ipython",
    "version": 3
   },
   "file_extension": ".py",
   "mimetype": "text/x-python",
   "name": "python",
   "nbconvert_exporter": "python",
   "pygments_lexer": "ipython3",
   "version": "3.8.0-final"
  },
  "orig_nbformat": 2,
  "kernelspec": {
   "name": "python3",
   "display_name": "Python 3.8.0 64-bit ('env')",
   "metadata": {
    "interpreter": {
     "hash": "9df6f5d0223c4225f67aea5dd6a7bf209700c7b07cfe71fa9b33cef61a6bb453"
    }
   }
  }
 },
 "nbformat": 4,
 "nbformat_minor": 2,
 "cells": [
  {
   "cell_type": "code",
   "execution_count": 1,
   "metadata": {},
   "outputs": [],
   "source": [
    "import pandas as pd\n",
    "import numpy as np\n",
    "import seaborn as sns\n",
    "import pickle\n",
    "import math\n",
    "import re\n",
    "import time\n",
    "import gc"
   ]
  },
  {
   "cell_type": "code",
   "execution_count": 2,
   "metadata": {},
   "outputs": [
    {
     "output_type": "stream",
     "name": "stdout",
     "text": [
      "Dataset 1 shape: (24053764, 3)\n-Dataset examples-\n          CustomerID  Rating  MovieID\n0            1488844     3.0        1\n5000000       501954     2.0      996\n10000000      404654     5.0     1962\n15000000      886608     2.0     2876\n20000000     1193835     2.0     3825\nTime taken:28.31346893310547 seconds\n"
     ]
    }
   ],
   "source": [
    "start_time = time.time()\n",
    "df1 = pd.read_csv('NetflixPrizeData/combined_data_1_v2.csv', header = None, names = ['CustomerID', 'Rating','MovieID'], usecols = [0,1,3])\n",
    "df2 = pd.read_csv('NetflixPrizeData/combined_data_2_v2.csv', header = None, names = ['CustomerID', 'Rating','MovieID'], usecols = [0,1,3])\n",
    "df3 = pd.read_csv('NetflixPrizeData/combined_data_3_v2.csv', header = None, names = ['CustomerID', 'Rating','MovieID'], usecols = [0,1,3])\n",
    "df4 = pd.read_csv('NetflixPrizeData/combined_data_4_v2.csv', header = None, names = ['CustomerID', 'Rating','MovieID'], usecols = [0,1,3])\n",
    "\n",
    "df1['Rating'] = df1['Rating'].astype(float)\n",
    "df2['Rating'] = df2['Rating'].astype(float)\n",
    "df3['Rating'] = df3['Rating'].astype(float)\n",
    "df4['Rating'] = df4['Rating'].astype(float)\n",
    "\n",
    "print('Dataset 1 shape: {}'.format(df1.shape))\n",
    "print('-Dataset examples-')\n",
    "print(df1.iloc[::5000000, :])\n",
    "\n",
    "print('Time taken:'+str((time.time() - start_time))+' seconds')  "
   ]
  },
  {
   "cell_type": "code",
   "execution_count": 3,
   "metadata": {},
   "outputs": [
    {
     "output_type": "stream",
     "name": "stdout",
     "text": [
      "Full dataset shape: (100480507, 3)\n-Dataset examples-\n           CustomerID  Rating  MovieID\n0             1488844     3.0        1\n5000000        501954     2.0      996\n10000000       404654     5.0     1962\n15000000       886608     2.0     2876\n20000000      1193835     2.0     3825\n25000000      1899206     3.0     4661\n30000000       154804     4.0     5496\n35000000      2078749     5.0     6274\n40000000       450763     5.0     7057\n45000000       102092     3.0     7991\n50000000       220298     5.0     9023\n55000000       550530     5.0    10042\n60000000       222570     3.0    11038\n65000000      1273080     5.0    11875\n70000000      2026970     5.0    12676\n75000000       506044     4.0    13582\n80000000       353605     2.0    14453\n85000000       664606     3.0    15116\n90000000      2213715     3.0    16008\n95000000      1589401     5.0    16879\n100000000     2314006     4.0    17627\nTime taken:27.63409996032715 seconds\n"
     ]
    }
   ],
   "source": [
    "# load less data for speed\n",
    "start_time = time.time()\n",
    "\n",
    "df = df1\n",
    "df = df1.append(df2)\n",
    "df = df.append(df3)\n",
    "df = df.append(df4)\n",
    "\n",
    "df.index = np.arange(0,len(df))\n",
    "print('Full dataset shape: {}'.format(df.shape))\n",
    "print('-Dataset examples-')\n",
    "print(df.iloc[::5000000, :])\n",
    "\n",
    "print('Time taken:'+str((time.time() - start_time))+' seconds')  "
   ]
  },
  {
   "cell_type": "code",
   "execution_count": 4,
   "metadata": {},
   "outputs": [
    {
     "output_type": "stream",
     "name": "stdout",
     "text": [
      "Movie minimum times of review: 1948.0\n",
      "Customer minimum times of review: 211.0\n",
      "Time taken:28.476064920425415 seconds\n"
     ]
    }
   ],
   "source": [
    "start_time = time.time()\n",
    "\n",
    "f = ['count','mean']\n",
    "\n",
    "df_movie_summary = df.groupby('MovieID')['Rating'].agg(f)\n",
    "df_movie_summary.index = df_movie_summary.index.map(int)\n",
    "movie_benchmark = round(df_movie_summary['count'].quantile(0.7),0)\n",
    "drop_movie_list = df_movie_summary[df_movie_summary['count'] < movie_benchmark].index\n",
    "\n",
    "print('Movie minimum times of review: {}'.format(movie_benchmark))\n",
    "\n",
    "df_cust_summary = df.groupby('CustomerID')['Rating'].agg(f)\n",
    "df_cust_summary.index = df_cust_summary.index.map(int)\n",
    "cust_benchmark = round(df_cust_summary['count'].quantile(0.7),0)\n",
    "drop_cust_list = df_cust_summary[df_cust_summary['count'] < cust_benchmark].index\n",
    "\n",
    "print('Customer minimum times of review: {}'.format(cust_benchmark))\n",
    "\n",
    "print('Time taken:'+str((time.time() - start_time))+' seconds')  "
   ]
  },
  {
   "cell_type": "code",
   "execution_count": 5,
   "metadata": {},
   "outputs": [
    {
     "output_type": "stream",
     "name": "stdout",
     "text": [
      "Original Shape: (100480507, 3)\n",
      "After Trim Shape: (71833509, 3)\n",
      "-Data Examples-\n",
      "          CustomerID  Rating  MovieID\n",
      "693           712664     5.0        3\n",
      "6957956      1973032     4.0     1395\n",
      "13899167      412139     5.0     2660\n",
      "20822622     1503396     4.0     3925\n",
      "27783299     2417320     2.0     5121\n",
      "34824490     2551271     5.0     6240\n",
      "41865304     2406150     4.0     7399\n",
      "48683880     1305391     2.0     8782\n",
      "55541104      528496     3.0    10158\n",
      "62639089      599678     2.0    11376\n",
      "69642938      964493     5.0    12612\n",
      "76727431      829466     5.0    13923\n",
      "83750446     2255251     4.0    14953\n",
      "90844412     1097827     4.0    16169\n",
      "97921470     1463885     5.0    17321\n",
      "Time taken:68.24150514602661 seconds\n"
     ]
    }
   ],
   "source": [
    "start_time = time.time()\n",
    "\n",
    "print('Original Shape: {}'.format(df.shape))\n",
    "df = df[~df['MovieID'].isin(drop_movie_list)]\n",
    "df = df[~df['CustomerID'].isin(drop_cust_list)]\n",
    "print('After Trim Shape: {}'.format(df.shape))\n",
    "print('-Data Examples-')\n",
    "print(df.iloc[::5000000, :])\n",
    "\n",
    "print('Time taken:'+str((time.time() - start_time))+' seconds')  "
   ]
  },
  {
   "cell_type": "code",
   "execution_count": 6,
   "metadata": {},
   "outputs": [
    {
     "output_type": "stream",
     "name": "stdout",
     "text": [
      "Time taken:7.100744009017944 seconds\n"
     ]
    }
   ],
   "source": [
    "start_time = time.time()\n",
    "\n",
    "# Sample 100000 (1 million) rows\n",
    "sample_50_df = df.sample(n = 1000000) \n",
    "sample_50_df.insert(3, 'fill', 1)\n",
    "sample_50_df.sort_values(by=['CustomerID','MovieID'], inplace=True)\n",
    "# copy.set_index(['CustomerID'], inplace=True)\n",
    "# copy.sort_index(inplace=True)\n",
    "# copy.reset_index(inplace=True)\n",
    "sample_50_df\n",
    "\n",
    "print('Time taken:'+str((time.time() - start_time))+' seconds')  "
   ]
  },
  {
   "cell_type": "code",
   "execution_count": 7,
   "metadata": {},
   "outputs": [
    {
     "output_type": "execute_result",
     "data": {
      "text/plain": [
       "          CustomerID  Rating  MovieID  fill\n",
       "649632             6     5.0      175     1\n",
       "5365839            6     3.0     1096     1\n",
       "7029960            6     4.0     1406     1\n",
       "14843182           6     4.0     2862     1\n",
       "16309033           6     1.0     3151     1\n",
       "...              ...     ...      ...   ...\n",
       "13213316     2649429     3.0     2499     1\n",
       "37780743     2649429     5.0     6720     1\n",
       "57603045     2649429     4.0    10550     1\n",
       "68012972     2649429     5.0    12343     1\n",
       "92225846     2649429     5.0    16377     1\n",
       "\n",
       "[1000000 rows x 4 columns]"
      ],
      "text/html": "<div>\n<style scoped>\n    .dataframe tbody tr th:only-of-type {\n        vertical-align: middle;\n    }\n\n    .dataframe tbody tr th {\n        vertical-align: top;\n    }\n\n    .dataframe thead th {\n        text-align: right;\n    }\n</style>\n<table border=\"1\" class=\"dataframe\">\n  <thead>\n    <tr style=\"text-align: right;\">\n      <th></th>\n      <th>CustomerID</th>\n      <th>Rating</th>\n      <th>MovieID</th>\n      <th>fill</th>\n    </tr>\n  </thead>\n  <tbody>\n    <tr>\n      <th>649632</th>\n      <td>6</td>\n      <td>5.0</td>\n      <td>175</td>\n      <td>1</td>\n    </tr>\n    <tr>\n      <th>5365839</th>\n      <td>6</td>\n      <td>3.0</td>\n      <td>1096</td>\n      <td>1</td>\n    </tr>\n    <tr>\n      <th>7029960</th>\n      <td>6</td>\n      <td>4.0</td>\n      <td>1406</td>\n      <td>1</td>\n    </tr>\n    <tr>\n      <th>14843182</th>\n      <td>6</td>\n      <td>4.0</td>\n      <td>2862</td>\n      <td>1</td>\n    </tr>\n    <tr>\n      <th>16309033</th>\n      <td>6</td>\n      <td>1.0</td>\n      <td>3151</td>\n      <td>1</td>\n    </tr>\n    <tr>\n      <th>...</th>\n      <td>...</td>\n      <td>...</td>\n      <td>...</td>\n      <td>...</td>\n    </tr>\n    <tr>\n      <th>13213316</th>\n      <td>2649429</td>\n      <td>3.0</td>\n      <td>2499</td>\n      <td>1</td>\n    </tr>\n    <tr>\n      <th>37780743</th>\n      <td>2649429</td>\n      <td>5.0</td>\n      <td>6720</td>\n      <td>1</td>\n    </tr>\n    <tr>\n      <th>57603045</th>\n      <td>2649429</td>\n      <td>4.0</td>\n      <td>10550</td>\n      <td>1</td>\n    </tr>\n    <tr>\n      <th>68012972</th>\n      <td>2649429</td>\n      <td>5.0</td>\n      <td>12343</td>\n      <td>1</td>\n    </tr>\n    <tr>\n      <th>92225846</th>\n      <td>2649429</td>\n      <td>5.0</td>\n      <td>16377</td>\n      <td>1</td>\n    </tr>\n  </tbody>\n</table>\n<p>1000000 rows × 4 columns</p>\n</div>"
     },
     "metadata": {},
     "execution_count": 7
    }
   ],
   "source": [
    "sample_50_df"
   ]
  },
  {
   "cell_type": "code",
   "execution_count": 8,
   "metadata": {},
   "outputs": [
    {
     "output_type": "stream",
     "name": "stdout",
     "text": [
      "144380\n142458\n"
     ]
    }
   ],
   "source": [
    "print(len(df['CustomerID'].unique()))\n",
    "print(len(sample_50_df['CustomerID'].unique()))"
   ]
  },
  {
   "cell_type": "code",
   "execution_count": 9,
   "metadata": {},
   "outputs": [
    {
     "output_type": "stream",
     "name": "stdout",
     "text": [
      "5332\n5332\n"
     ]
    }
   ],
   "source": [
    "print(len(df['MovieID'].unique()))\n",
    "print(len(sample_50_df['MovieID'].unique()))"
   ]
  },
  {
   "cell_type": "code",
   "execution_count": 10,
   "metadata": {},
   "outputs": [
    {
     "output_type": "execute_result",
     "data": {
      "text/plain": [
       "        CustomerID                                            MovieID\n",
       "0                6  [175, 1096, 1406, 2862, 3151, 7158, 7643, 1073...\n",
       "1                7  [3905, 6350, 6971, 7230, 7586, 8105, 8254, 842...\n",
       "2               10                                            [11152]\n",
       "3               79  [1615, 1719, 2735, 3422, 3573, 3624, 8301, 868...\n",
       "4               97                        [3807, 11198, 12195, 12672]\n",
       "...            ...                                                ...\n",
       "142453     2649370                         [3917, 7635, 11283, 16075]\n",
       "142454     2649378                               [3925, 11279, 11521]\n",
       "142455     2649388                                        [357, 8954]\n",
       "142456     2649426        [273, 4745, 5327, 5807, 9232, 14898, 15968]\n",
       "142457     2649429              [30, 2499, 6720, 10550, 12343, 16377]\n",
       "\n",
       "[142458 rows x 2 columns]"
      ],
      "text/html": "<div>\n<style scoped>\n    .dataframe tbody tr th:only-of-type {\n        vertical-align: middle;\n    }\n\n    .dataframe tbody tr th {\n        vertical-align: top;\n    }\n\n    .dataframe thead th {\n        text-align: right;\n    }\n</style>\n<table border=\"1\" class=\"dataframe\">\n  <thead>\n    <tr style=\"text-align: right;\">\n      <th></th>\n      <th>CustomerID</th>\n      <th>MovieID</th>\n    </tr>\n  </thead>\n  <tbody>\n    <tr>\n      <th>0</th>\n      <td>6</td>\n      <td>[175, 1096, 1406, 2862, 3151, 7158, 7643, 1073...</td>\n    </tr>\n    <tr>\n      <th>1</th>\n      <td>7</td>\n      <td>[3905, 6350, 6971, 7230, 7586, 8105, 8254, 842...</td>\n    </tr>\n    <tr>\n      <th>2</th>\n      <td>10</td>\n      <td>[11152]</td>\n    </tr>\n    <tr>\n      <th>3</th>\n      <td>79</td>\n      <td>[1615, 1719, 2735, 3422, 3573, 3624, 8301, 868...</td>\n    </tr>\n    <tr>\n      <th>4</th>\n      <td>97</td>\n      <td>[3807, 11198, 12195, 12672]</td>\n    </tr>\n    <tr>\n      <th>...</th>\n      <td>...</td>\n      <td>...</td>\n    </tr>\n    <tr>\n      <th>142453</th>\n      <td>2649370</td>\n      <td>[3917, 7635, 11283, 16075]</td>\n    </tr>\n    <tr>\n      <th>142454</th>\n      <td>2649378</td>\n      <td>[3925, 11279, 11521]</td>\n    </tr>\n    <tr>\n      <th>142455</th>\n      <td>2649388</td>\n      <td>[357, 8954]</td>\n    </tr>\n    <tr>\n      <th>142456</th>\n      <td>2649426</td>\n      <td>[273, 4745, 5327, 5807, 9232, 14898, 15968]</td>\n    </tr>\n    <tr>\n      <th>142457</th>\n      <td>2649429</td>\n      <td>[30, 2499, 6720, 10550, 12343, 16377]</td>\n    </tr>\n  </tbody>\n</table>\n<p>142458 rows × 2 columns</p>\n</div>"
     },
     "metadata": {},
     "execution_count": 10
    }
   ],
   "source": [
    "gb = sample_50_df.groupby(['CustomerID'])\n",
    "result = gb['MovieID'].unique()\n",
    "result = result.reset_index()\n",
    "result"
   ]
  },
  {
   "cell_type": "code",
   "execution_count": 11,
   "metadata": {},
   "outputs": [
    {
     "output_type": "execute_result",
     "data": {
      "text/plain": [
       "CustomerID     int64\n",
       "MovieID       object\n",
       "dtype: object"
      ]
     },
     "metadata": {},
     "execution_count": 11
    }
   ],
   "source": [
    "result.dtypes"
   ]
  },
  {
   "cell_type": "code",
   "execution_count": 12,
   "metadata": {},
   "outputs": [
    {
     "output_type": "execute_result",
     "data": {
      "text/plain": [
       "array([  175,  1096,  1406,  2862,  3151,  7158,  7643, 10730, 12513,\n",
       "       13471, 16997])"
      ]
     },
     "metadata": {},
     "execution_count": 12
    }
   ],
   "source": [
    "feature_dict = dict(zip(result.CustomerID, result.MovieID))\n",
    "feature_dict[6]"
   ]
  },
  {
   "cell_type": "code",
   "execution_count": 13,
   "metadata": {},
   "outputs": [
    {
     "output_type": "stream",
     "name": "stdout",
     "text": [
      "First 5 entries in dict : {6: array([  175,  1096,  1406,  2862,  3151,  7158,  7643, 10730, 12513,\n       13471, 16997]), 7: array([ 3905,  6350,  6971,  7230,  7586,  8105,  8254,  8428, 12293,\n       16233, 16922]), 10: array([11152]), 79: array([ 1615,  1719,  2735,  3422,  3573,  3624,  8301,  8687, 12329,\n       12902, 14648, 15818, 15871, 16930, 17302, 17697]), 97: array([ 3807, 11198, 12195, 12672])}\n"
     ]
    }
   ],
   "source": [
    "import itertools \n",
    "\t\n",
    "out = dict(itertools.islice(feature_dict.items(), 5)) \n",
    "print(\"First 5 entries in dict : \" + str(out)) \n"
   ]
  },
  {
   "cell_type": "code",
   "execution_count": 14,
   "metadata": {},
   "outputs": [
    {
     "output_type": "execute_result",
     "data": {
      "text/plain": [
       "142458"
      ]
     },
     "metadata": {},
     "execution_count": 14
    }
   ],
   "source": [
    "len(feature_dict.items())"
   ]
  },
  {
   "cell_type": "code",
   "execution_count": 15,
   "metadata": {},
   "outputs": [
    {
     "output_type": "stream",
     "name": "stdout",
     "text": [
      "         count  percentage\nRating                    \n1.0      40284      4.0284\n2.0     100000     10.0000\n3.0     299420     29.9420\n4.0     341334     34.1334\n5.0     218962     21.8962\ncount         1000000.0\npercentage        100.0\ndtype: float64\n"
     ]
    }
   ],
   "source": [
    "x = sample_50_df.groupby('Rating')['Rating'].agg(['count'])\n",
    "x['percentage'] = (x['count'] / x['count'].sum()) * 100\n",
    "\n",
    "print(x)\n",
    "print(x.sum(axis = 0, skipna = True))"
   ]
  },
  {
   "cell_type": "code",
   "execution_count": 16,
   "metadata": {},
   "outputs": [
    {
     "output_type": "stream",
     "name": "stdout",
     "text": [
      "           count  percentage\nRating                      \n1.0      2908297    4.048663\n2.0      7214331   10.043128\n3.0     21468990   29.887152\n4.0     24516837   34.130084\n5.0     15725054   21.890973\ncount         71833509.0\npercentage         100.0\ndtype: float64\n"
     ]
    }
   ],
   "source": [
    "x = df.groupby('Rating')['Rating'].agg(['count'])\n",
    "\n",
    "x['percentage'] = (x['count'] / x['count'].sum()) * 100\n",
    "\n",
    "print(x)\n",
    "print(x.sum(axis = 0, skipna = True))"
   ]
  },
  {
   "cell_type": "code",
   "execution_count": 22,
   "metadata": {},
   "outputs": [
    {
     "output_type": "execute_result",
     "data": {
      "text/plain": [
       "MovieID     3      8      16     17     18     26     28     30     33     \\\n",
       "CustomerID                                                                  \n",
       "6               0      0      0      0      0      0      0      0      0   \n",
       "7               0      0      0      0      0      0      0      0      0   \n",
       "10              0      0      0      0      0      0      0      0      0   \n",
       "79              0      0      0      0      0      0      0      0      0   \n",
       "97              0      0      0      0      0      0      0      0      0   \n",
       "...           ...    ...    ...    ...    ...    ...    ...    ...    ...   \n",
       "2649370         0      0      0      0      0      0      0      0      0   \n",
       "2649378         0      0      0      0      0      0      0      0      0   \n",
       "2649388         0      0      0      0      0      0      0      1      0   \n",
       "2649426         0      0      0      0      0      0      0      0      0   \n",
       "2649429         0      0      0      0      0      0      0      0      0   \n",
       "\n",
       "MovieID     44     ...  17741  17743  17751  17756  17758  17761  17762  \\\n",
       "CustomerID         ...                                                    \n",
       "6               0  ...      0      0      0      0      0      0      0   \n",
       "7               0  ...      0      0      0      0      0      0      0   \n",
       "10              0  ...      0      0      0      0      0      0      0   \n",
       "79              0  ...      0      0      0      0      0      0      0   \n",
       "97              0  ...      0      0      0      0      0      0      0   \n",
       "...           ...  ...    ...    ...    ...    ...    ...    ...    ...   \n",
       "2649370         0  ...      0      0      0      0      0      0      0   \n",
       "2649378         0  ...      0      0      0      0      0      0      0   \n",
       "2649388         0  ...      0      0      0      0      0      0      0   \n",
       "2649426         0  ...      0      0      0      0      0      0      0   \n",
       "2649429         0  ...      0      0      0      0      0      0      0   \n",
       "\n",
       "MovieID     17763  17764  17769  \n",
       "CustomerID                       \n",
       "6               0      0      0  \n",
       "7               0      0      0  \n",
       "10              0      0      0  \n",
       "79              0      0      0  \n",
       "97              0      0      0  \n",
       "...           ...    ...    ...  \n",
       "2649370         0      0      0  \n",
       "2649378         0      0      0  \n",
       "2649388         0      0      0  \n",
       "2649426         0      0      0  \n",
       "2649429         0      0      0  \n",
       "\n",
       "[142474 rows x 5332 columns]"
      ],
      "text/html": "<div>\n<style scoped>\n    .dataframe tbody tr th:only-of-type {\n        vertical-align: middle;\n    }\n\n    .dataframe tbody tr th {\n        vertical-align: top;\n    }\n\n    .dataframe thead th {\n        text-align: right;\n    }\n</style>\n<table border=\"1\" class=\"dataframe\">\n  <thead>\n    <tr style=\"text-align: right;\">\n      <th>MovieID</th>\n      <th>3</th>\n      <th>8</th>\n      <th>16</th>\n      <th>17</th>\n      <th>18</th>\n      <th>26</th>\n      <th>28</th>\n      <th>30</th>\n      <th>33</th>\n      <th>44</th>\n      <th>...</th>\n      <th>17741</th>\n      <th>17743</th>\n      <th>17751</th>\n      <th>17756</th>\n      <th>17758</th>\n      <th>17761</th>\n      <th>17762</th>\n      <th>17763</th>\n      <th>17764</th>\n      <th>17769</th>\n    </tr>\n    <tr>\n      <th>CustomerID</th>\n      <th></th>\n      <th></th>\n      <th></th>\n      <th></th>\n      <th></th>\n      <th></th>\n      <th></th>\n      <th></th>\n      <th></th>\n      <th></th>\n      <th></th>\n      <th></th>\n      <th></th>\n      <th></th>\n      <th></th>\n      <th></th>\n      <th></th>\n      <th></th>\n      <th></th>\n      <th></th>\n      <th></th>\n    </tr>\n  </thead>\n  <tbody>\n    <tr>\n      <th>6</th>\n      <td>0</td>\n      <td>0</td>\n      <td>0</td>\n      <td>0</td>\n      <td>0</td>\n      <td>0</td>\n      <td>0</td>\n      <td>0</td>\n      <td>0</td>\n      <td>0</td>\n      <td>...</td>\n      <td>0</td>\n      <td>0</td>\n      <td>0</td>\n      <td>0</td>\n      <td>0</td>\n      <td>0</td>\n      <td>0</td>\n      <td>0</td>\n      <td>0</td>\n      <td>0</td>\n    </tr>\n    <tr>\n      <th>7</th>\n      <td>0</td>\n      <td>0</td>\n      <td>0</td>\n      <td>0</td>\n      <td>0</td>\n      <td>0</td>\n      <td>0</td>\n      <td>0</td>\n      <td>0</td>\n      <td>0</td>\n      <td>...</td>\n      <td>0</td>\n      <td>0</td>\n      <td>0</td>\n      <td>0</td>\n      <td>0</td>\n      <td>0</td>\n      <td>0</td>\n      <td>0</td>\n      <td>0</td>\n      <td>0</td>\n    </tr>\n    <tr>\n      <th>10</th>\n      <td>0</td>\n      <td>0</td>\n      <td>0</td>\n      <td>0</td>\n      <td>0</td>\n      <td>0</td>\n      <td>0</td>\n      <td>0</td>\n      <td>0</td>\n      <td>0</td>\n      <td>...</td>\n      <td>0</td>\n      <td>0</td>\n      <td>0</td>\n      <td>0</td>\n      <td>0</td>\n      <td>0</td>\n      <td>0</td>\n      <td>0</td>\n      <td>0</td>\n      <td>0</td>\n    </tr>\n    <tr>\n      <th>79</th>\n      <td>0</td>\n      <td>0</td>\n      <td>0</td>\n      <td>0</td>\n      <td>0</td>\n      <td>0</td>\n      <td>0</td>\n      <td>0</td>\n      <td>0</td>\n      <td>0</td>\n      <td>...</td>\n      <td>0</td>\n      <td>0</td>\n      <td>0</td>\n      <td>0</td>\n      <td>0</td>\n      <td>0</td>\n      <td>0</td>\n      <td>0</td>\n      <td>0</td>\n      <td>0</td>\n    </tr>\n    <tr>\n      <th>97</th>\n      <td>0</td>\n      <td>0</td>\n      <td>0</td>\n      <td>0</td>\n      <td>0</td>\n      <td>0</td>\n      <td>0</td>\n      <td>0</td>\n      <td>0</td>\n      <td>0</td>\n      <td>...</td>\n      <td>0</td>\n      <td>0</td>\n      <td>0</td>\n      <td>0</td>\n      <td>0</td>\n      <td>0</td>\n      <td>0</td>\n      <td>0</td>\n      <td>0</td>\n      <td>0</td>\n    </tr>\n    <tr>\n      <th>...</th>\n      <td>...</td>\n      <td>...</td>\n      <td>...</td>\n      <td>...</td>\n      <td>...</td>\n      <td>...</td>\n      <td>...</td>\n      <td>...</td>\n      <td>...</td>\n      <td>...</td>\n      <td>...</td>\n      <td>...</td>\n      <td>...</td>\n      <td>...</td>\n      <td>...</td>\n      <td>...</td>\n      <td>...</td>\n      <td>...</td>\n      <td>...</td>\n      <td>...</td>\n      <td>...</td>\n    </tr>\n    <tr>\n      <th>2649370</th>\n      <td>0</td>\n      <td>0</td>\n      <td>0</td>\n      <td>0</td>\n      <td>0</td>\n      <td>0</td>\n      <td>0</td>\n      <td>0</td>\n      <td>0</td>\n      <td>0</td>\n      <td>...</td>\n      <td>0</td>\n      <td>0</td>\n      <td>0</td>\n      <td>0</td>\n      <td>0</td>\n      <td>0</td>\n      <td>0</td>\n      <td>0</td>\n      <td>0</td>\n      <td>0</td>\n    </tr>\n    <tr>\n      <th>2649378</th>\n      <td>0</td>\n      <td>0</td>\n      <td>0</td>\n      <td>0</td>\n      <td>0</td>\n      <td>0</td>\n      <td>0</td>\n      <td>0</td>\n      <td>0</td>\n      <td>0</td>\n      <td>...</td>\n      <td>0</td>\n      <td>0</td>\n      <td>0</td>\n      <td>0</td>\n      <td>0</td>\n      <td>0</td>\n      <td>0</td>\n      <td>0</td>\n      <td>0</td>\n      <td>0</td>\n    </tr>\n    <tr>\n      <th>2649388</th>\n      <td>0</td>\n      <td>0</td>\n      <td>0</td>\n      <td>0</td>\n      <td>0</td>\n      <td>0</td>\n      <td>0</td>\n      <td>1</td>\n      <td>0</td>\n      <td>0</td>\n      <td>...</td>\n      <td>0</td>\n      <td>0</td>\n      <td>0</td>\n      <td>0</td>\n      <td>0</td>\n      <td>0</td>\n      <td>0</td>\n      <td>0</td>\n      <td>0</td>\n      <td>0</td>\n    </tr>\n    <tr>\n      <th>2649426</th>\n      <td>0</td>\n      <td>0</td>\n      <td>0</td>\n      <td>0</td>\n      <td>0</td>\n      <td>0</td>\n      <td>0</td>\n      <td>0</td>\n      <td>0</td>\n      <td>0</td>\n      <td>...</td>\n      <td>0</td>\n      <td>0</td>\n      <td>0</td>\n      <td>0</td>\n      <td>0</td>\n      <td>0</td>\n      <td>0</td>\n      <td>0</td>\n      <td>0</td>\n      <td>0</td>\n    </tr>\n    <tr>\n      <th>2649429</th>\n      <td>0</td>\n      <td>0</td>\n      <td>0</td>\n      <td>0</td>\n      <td>0</td>\n      <td>0</td>\n      <td>0</td>\n      <td>0</td>\n      <td>0</td>\n      <td>0</td>\n      <td>...</td>\n      <td>0</td>\n      <td>0</td>\n      <td>0</td>\n      <td>0</td>\n      <td>0</td>\n      <td>0</td>\n      <td>0</td>\n      <td>0</td>\n      <td>0</td>\n      <td>0</td>\n    </tr>\n  </tbody>\n</table>\n<p>142474 rows × 5332 columns</p>\n</div>"
     },
     "metadata": {},
     "execution_count": 22
    }
   ],
   "source": [
    "start_time = time.time()\n",
    "\n",
    "#for numpy array\n",
    "df_p_for_nparray = pd.pivot_table(sample_50_df,values='fill',index='CustomerID',columns='MovieID',fill_value=0.0)\n",
    "\n",
    "print('Time taken:'+str((time.time() - start_time))+' seconds')  \n",
    "df_p_for_nparray"
   ]
  },
  {
   "cell_type": "code",
   "execution_count": 24,
   "metadata": {},
   "outputs": [
    {
     "output_type": "execute_result",
     "data": {
      "text/plain": [
       "array([[0, 0, 0, ..., 0, 0, 0],\n",
       "       [0, 0, 0, ..., 0, 0, 0],\n",
       "       [0, 0, 0, ..., 0, 0, 0],\n",
       "       ...,\n",
       "       [0, 0, 0, ..., 0, 0, 0],\n",
       "       [0, 0, 0, ..., 0, 0, 0],\n",
       "       [0, 0, 0, ..., 0, 0, 0]])"
      ]
     },
     "metadata": {},
     "execution_count": 24
    }
   ],
   "source": [
    "np_array = df_p_for_nparray.to_numpy()\n",
    "np_array"
   ]
  },
  {
   "cell_type": "code",
   "execution_count": null,
   "metadata": {},
   "outputs": [],
   "source": [
    "np.where(np_array == 1)"
   ]
  },
  {
   "cell_type": "code",
   "execution_count": 18,
   "metadata": {},
   "outputs": [
    {
     "output_type": "execute_result",
     "data": {
      "text/plain": [
       "CustomerID  6        7        10       79       97       134      169      \\\n",
       "MovieID                                                                     \n",
       "3               NaN      NaN      NaN      NaN      NaN      NaN      NaN   \n",
       "8               NaN      NaN      NaN      NaN      NaN      NaN      NaN   \n",
       "16              NaN      NaN      NaN      NaN      NaN      NaN      NaN   \n",
       "17              NaN      NaN      NaN      NaN      NaN      NaN      NaN   \n",
       "18              NaN      NaN      NaN      NaN      NaN      NaN      NaN   \n",
       "...             ...      ...      ...      ...      ...      ...      ...   \n",
       "17761           NaN      NaN      NaN      NaN      NaN      NaN      NaN   \n",
       "17762           NaN      NaN      NaN      NaN      NaN      NaN      NaN   \n",
       "17763           NaN      NaN      NaN      NaN      NaN      NaN      NaN   \n",
       "17764           NaN      NaN      NaN      NaN      NaN      NaN      NaN   \n",
       "17769           NaN      NaN      NaN      NaN      NaN      NaN      NaN   \n",
       "\n",
       "CustomerID  188      195      199      ...  2649299  2649308  2649328  \\\n",
       "MovieID                                ...                              \n",
       "3               NaN      NaN      NaN  ...      NaN      NaN      NaN   \n",
       "8               NaN      NaN      NaN  ...      NaN      NaN      NaN   \n",
       "16              NaN      NaN      NaN  ...      NaN      NaN      NaN   \n",
       "17              NaN      NaN      NaN  ...      NaN      NaN      NaN   \n",
       "18              NaN      NaN      NaN  ...      NaN      NaN      NaN   \n",
       "...             ...      ...      ...  ...      ...      ...      ...   \n",
       "17761           NaN      NaN      NaN  ...      NaN      NaN      NaN   \n",
       "17762           NaN      NaN      NaN  ...      NaN      NaN      NaN   \n",
       "17763           NaN      NaN      NaN  ...      NaN      NaN      NaN   \n",
       "17764           NaN      NaN      NaN  ...      NaN      NaN      NaN   \n",
       "17769           NaN      NaN      NaN  ...      NaN      NaN      NaN   \n",
       "\n",
       "CustomerID  2649331  2649336  2649370  2649378  2649388  2649426  2649429  \n",
       "MovieID                                                                    \n",
       "3               NaN      NaN      NaN      NaN      NaN      NaN      NaN  \n",
       "8               NaN      NaN      NaN      NaN      NaN      NaN      NaN  \n",
       "16              NaN      NaN      NaN      NaN      NaN      NaN      NaN  \n",
       "17              NaN      NaN      NaN      NaN      NaN      NaN      NaN  \n",
       "18              NaN      NaN      NaN      NaN      NaN      NaN      NaN  \n",
       "...             ...      ...      ...      ...      ...      ...      ...  \n",
       "17761           NaN      NaN      NaN      NaN      NaN      NaN      NaN  \n",
       "17762           NaN      NaN      NaN      NaN      NaN      NaN      NaN  \n",
       "17763           NaN      NaN      NaN      NaN      NaN      NaN      NaN  \n",
       "17764           NaN      NaN      NaN      NaN      NaN      NaN      NaN  \n",
       "17769           NaN      NaN      NaN      NaN      NaN      NaN      NaN  \n",
       "\n",
       "[5332 rows x 142458 columns]"
      ],
      "text/html": "<div>\n<style scoped>\n    .dataframe tbody tr th:only-of-type {\n        vertical-align: middle;\n    }\n\n    .dataframe tbody tr th {\n        vertical-align: top;\n    }\n\n    .dataframe thead th {\n        text-align: right;\n    }\n</style>\n<table border=\"1\" class=\"dataframe\">\n  <thead>\n    <tr style=\"text-align: right;\">\n      <th>CustomerID</th>\n      <th>6</th>\n      <th>7</th>\n      <th>10</th>\n      <th>79</th>\n      <th>97</th>\n      <th>134</th>\n      <th>169</th>\n      <th>188</th>\n      <th>195</th>\n      <th>199</th>\n      <th>...</th>\n      <th>2649299</th>\n      <th>2649308</th>\n      <th>2649328</th>\n      <th>2649331</th>\n      <th>2649336</th>\n      <th>2649370</th>\n      <th>2649378</th>\n      <th>2649388</th>\n      <th>2649426</th>\n      <th>2649429</th>\n    </tr>\n    <tr>\n      <th>MovieID</th>\n      <th></th>\n      <th></th>\n      <th></th>\n      <th></th>\n      <th></th>\n      <th></th>\n      <th></th>\n      <th></th>\n      <th></th>\n      <th></th>\n      <th></th>\n      <th></th>\n      <th></th>\n      <th></th>\n      <th></th>\n      <th></th>\n      <th></th>\n      <th></th>\n      <th></th>\n      <th></th>\n      <th></th>\n    </tr>\n  </thead>\n  <tbody>\n    <tr>\n      <th>3</th>\n      <td>NaN</td>\n      <td>NaN</td>\n      <td>NaN</td>\n      <td>NaN</td>\n      <td>NaN</td>\n      <td>NaN</td>\n      <td>NaN</td>\n      <td>NaN</td>\n      <td>NaN</td>\n      <td>NaN</td>\n      <td>...</td>\n      <td>NaN</td>\n      <td>NaN</td>\n      <td>NaN</td>\n      <td>NaN</td>\n      <td>NaN</td>\n      <td>NaN</td>\n      <td>NaN</td>\n      <td>NaN</td>\n      <td>NaN</td>\n      <td>NaN</td>\n    </tr>\n    <tr>\n      <th>8</th>\n      <td>NaN</td>\n      <td>NaN</td>\n      <td>NaN</td>\n      <td>NaN</td>\n      <td>NaN</td>\n      <td>NaN</td>\n      <td>NaN</td>\n      <td>NaN</td>\n      <td>NaN</td>\n      <td>NaN</td>\n      <td>...</td>\n      <td>NaN</td>\n      <td>NaN</td>\n      <td>NaN</td>\n      <td>NaN</td>\n      <td>NaN</td>\n      <td>NaN</td>\n      <td>NaN</td>\n      <td>NaN</td>\n      <td>NaN</td>\n      <td>NaN</td>\n    </tr>\n    <tr>\n      <th>16</th>\n      <td>NaN</td>\n      <td>NaN</td>\n      <td>NaN</td>\n      <td>NaN</td>\n      <td>NaN</td>\n      <td>NaN</td>\n      <td>NaN</td>\n      <td>NaN</td>\n      <td>NaN</td>\n      <td>NaN</td>\n      <td>...</td>\n      <td>NaN</td>\n      <td>NaN</td>\n      <td>NaN</td>\n      <td>NaN</td>\n      <td>NaN</td>\n      <td>NaN</td>\n      <td>NaN</td>\n      <td>NaN</td>\n      <td>NaN</td>\n      <td>NaN</td>\n    </tr>\n    <tr>\n      <th>17</th>\n      <td>NaN</td>\n      <td>NaN</td>\n      <td>NaN</td>\n      <td>NaN</td>\n      <td>NaN</td>\n      <td>NaN</td>\n      <td>NaN</td>\n      <td>NaN</td>\n      <td>NaN</td>\n      <td>NaN</td>\n      <td>...</td>\n      <td>NaN</td>\n      <td>NaN</td>\n      <td>NaN</td>\n      <td>NaN</td>\n      <td>NaN</td>\n      <td>NaN</td>\n      <td>NaN</td>\n      <td>NaN</td>\n      <td>NaN</td>\n      <td>NaN</td>\n    </tr>\n    <tr>\n      <th>18</th>\n      <td>NaN</td>\n      <td>NaN</td>\n      <td>NaN</td>\n      <td>NaN</td>\n      <td>NaN</td>\n      <td>NaN</td>\n      <td>NaN</td>\n      <td>NaN</td>\n      <td>NaN</td>\n      <td>NaN</td>\n      <td>...</td>\n      <td>NaN</td>\n      <td>NaN</td>\n      <td>NaN</td>\n      <td>NaN</td>\n      <td>NaN</td>\n      <td>NaN</td>\n      <td>NaN</td>\n      <td>NaN</td>\n      <td>NaN</td>\n      <td>NaN</td>\n    </tr>\n    <tr>\n      <th>...</th>\n      <td>...</td>\n      <td>...</td>\n      <td>...</td>\n      <td>...</td>\n      <td>...</td>\n      <td>...</td>\n      <td>...</td>\n      <td>...</td>\n      <td>...</td>\n      <td>...</td>\n      <td>...</td>\n      <td>...</td>\n      <td>...</td>\n      <td>...</td>\n      <td>...</td>\n      <td>...</td>\n      <td>...</td>\n      <td>...</td>\n      <td>...</td>\n      <td>...</td>\n      <td>...</td>\n    </tr>\n    <tr>\n      <th>17761</th>\n      <td>NaN</td>\n      <td>NaN</td>\n      <td>NaN</td>\n      <td>NaN</td>\n      <td>NaN</td>\n      <td>NaN</td>\n      <td>NaN</td>\n      <td>NaN</td>\n      <td>NaN</td>\n      <td>NaN</td>\n      <td>...</td>\n      <td>NaN</td>\n      <td>NaN</td>\n      <td>NaN</td>\n      <td>NaN</td>\n      <td>NaN</td>\n      <td>NaN</td>\n      <td>NaN</td>\n      <td>NaN</td>\n      <td>NaN</td>\n      <td>NaN</td>\n    </tr>\n    <tr>\n      <th>17762</th>\n      <td>NaN</td>\n      <td>NaN</td>\n      <td>NaN</td>\n      <td>NaN</td>\n      <td>NaN</td>\n      <td>NaN</td>\n      <td>NaN</td>\n      <td>NaN</td>\n      <td>NaN</td>\n      <td>NaN</td>\n      <td>...</td>\n      <td>NaN</td>\n      <td>NaN</td>\n      <td>NaN</td>\n      <td>NaN</td>\n      <td>NaN</td>\n      <td>NaN</td>\n      <td>NaN</td>\n      <td>NaN</td>\n      <td>NaN</td>\n      <td>NaN</td>\n    </tr>\n    <tr>\n      <th>17763</th>\n      <td>NaN</td>\n      <td>NaN</td>\n      <td>NaN</td>\n      <td>NaN</td>\n      <td>NaN</td>\n      <td>NaN</td>\n      <td>NaN</td>\n      <td>NaN</td>\n      <td>NaN</td>\n      <td>NaN</td>\n      <td>...</td>\n      <td>NaN</td>\n      <td>NaN</td>\n      <td>NaN</td>\n      <td>NaN</td>\n      <td>NaN</td>\n      <td>NaN</td>\n      <td>NaN</td>\n      <td>NaN</td>\n      <td>NaN</td>\n      <td>NaN</td>\n    </tr>\n    <tr>\n      <th>17764</th>\n      <td>NaN</td>\n      <td>NaN</td>\n      <td>NaN</td>\n      <td>NaN</td>\n      <td>NaN</td>\n      <td>NaN</td>\n      <td>NaN</td>\n      <td>NaN</td>\n      <td>NaN</td>\n      <td>NaN</td>\n      <td>...</td>\n      <td>NaN</td>\n      <td>NaN</td>\n      <td>NaN</td>\n      <td>NaN</td>\n      <td>NaN</td>\n      <td>NaN</td>\n      <td>NaN</td>\n      <td>NaN</td>\n      <td>NaN</td>\n      <td>NaN</td>\n    </tr>\n    <tr>\n      <th>17769</th>\n      <td>NaN</td>\n      <td>NaN</td>\n      <td>NaN</td>\n      <td>NaN</td>\n      <td>NaN</td>\n      <td>NaN</td>\n      <td>NaN</td>\n      <td>NaN</td>\n      <td>NaN</td>\n      <td>NaN</td>\n      <td>...</td>\n      <td>NaN</td>\n      <td>NaN</td>\n      <td>NaN</td>\n      <td>NaN</td>\n      <td>NaN</td>\n      <td>NaN</td>\n      <td>NaN</td>\n      <td>NaN</td>\n      <td>NaN</td>\n      <td>NaN</td>\n    </tr>\n  </tbody>\n</table>\n<p>5332 rows × 142458 columns</p>\n</div>"
     },
     "metadata": {},
     "execution_count": 18
    }
   ],
   "source": [
    "#for dict \n",
    "# finalllll\n",
    "start_time = time.time()\n",
    "\n",
    "# df_p_for_dict = pd.pivot_table(sample_50_df,values='Rating',index='MovieID',columns='CustomerID',fill_value=0.0)\n",
    "df_p_for_dict = pd.pivot_table(sample_50_df,values='Rating',index='MovieID',columns='CustomerID')\n",
    "\n",
    "print('Time taken:'+str((time.time() - start_time))+' seconds')  \n",
    "df_p_for_dict"
   ]
  },
  {
   "cell_type": "code",
   "execution_count": 27,
   "metadata": {},
   "outputs": [
    {
     "output_type": "execute_result",
     "data": {
      "text/plain": [
       "MovieID\n",
       "3        0.000611\n",
       "8        0.002793\n",
       "16       0.000856\n",
       "17       0.001095\n",
       "18       0.003615\n",
       "           ...   \n",
       "17761    0.001109\n",
       "17762    0.010198\n",
       "17763    0.000625\n",
       "17764    0.019933\n",
       "17769    0.001228\n",
       "Length: 5332, dtype: float64"
      ]
     },
     "metadata": {},
     "execution_count": 27
    }
   ],
   "source": [
    "# Old values with 0 in df\n",
    "df_p_for_dict.mean(axis=1)"
   ]
  },
  {
   "cell_type": "code",
   "execution_count": 19,
   "metadata": {},
   "outputs": [
    {
     "output_type": "stream",
     "name": "stdout",
     "text": [
      "CustomerID\n6          3.454545\n7          3.818182\n10         4.000000\n79         3.125000\n97         4.000000\n             ...   \n2649370    3.250000\n2649378    4.000000\n2649388    3.000000\n2649426    4.285714\n2649429    4.500000\nLength: 142458, dtype: float64\nMovieID\n3        3.600000\n8        2.874016\n16       3.066667\n17       2.870370\n18       3.762821\n           ...   \n17761    2.833333\n17762    3.572519\n17763    3.550000\n17764    3.842801\n17769    2.717647\nLength: 5332, dtype: float64\n"
     ]
    }
   ],
   "source": [
    "start_time = time.time()\n",
    "\n",
    "df_p_copy = df_p_for_dict.copy()\n",
    "# new_dict = df_p_for_dict.replace(0, np.NaN)\n",
    "\n",
    "customer_means = df_p_copy.mean()\n",
    "movie_means = df_p_copy.mean(axis=1)\n",
    "print(customer_means)\n",
    "print(movie_means)\n",
    "movie_means_dict = movie_means.to_dict()\n",
    "print(movie_means_dict)\n",
    "print('Time taken:'+str((time.time() - start_time))+' seconds')  "
   ]
  },
  {
   "cell_type": "code",
   "execution_count": 37,
   "metadata": {
    "tags": [
     "outputPrepend"
    ]
   },
   "outputs": [
    {
     "output_type": "stream",
     "name": "stdout",
     "text": [
      "2.875, 15155: 4.0, 15156: 3.5912322274881516, 15158: 2.977272727272727, 15160: 3.4878048780487805, 15163: 3.659217877094972, 15164: 4.030769230769231, 15170: 2.8333333333333335, 15171: 3.0275229357798166, 15177: 3.2950819672131146, 15181: 3.265432098765432, 15182: 3.2298850574712645, 15183: 4.204819277108434, 15186: 3.0294117647058822, 15200: 3.308411214953271, 15205: 3.3853503184713376, 15209: 3.8312958435207825, 15211: 3.3846153846153846, 15223: 3.048, 15224: 2.9615384615384617, 15233: 3.1710296684118675, 15234: 2.96875, 15237: 2.875, 15243: 3.142857142857143, 15244: 2.672727272727273, 15246: 3.663316582914573, 15256: 3.0256410256410255, 15257: 3.5555555555555554, 15260: 2.230769230769231, 15267: 4.090909090909091, 15272: 2.8035714285714284, 15276: 3.769230769230769, 15282: 3.6666666666666665, 15285: 3.033333333333333, 15289: 2.738095238095238, 15294: 4.222222222222222, 15296: 4.557951482479784, 15300: 3.189189189189189, 15305: 3.838709677419355, 15307: 4.3578947368421055, 15309: 3.1594202898550723, 15315: 3.4166666666666665, 15316: 4.368421052631579, 15317: 3.4038461538461537, 15329: 3.0425531914893615, 15333: 4.1395348837209305, 15334: 3.129032258064516, 15335: 3.63265306122449, 15336: 2.963855421686747, 15339: 3.4118852459016393, 15342: 3.476086956521739, 15345: 2.9860279441117763, 15361: 3.3333333333333335, 15362: 3.3157894736842106, 15363: 3.4545454545454546, 15365: 3.325, 15366: 3.5689655172413794, 15373: 3.3257575757575757, 15375: 3.1560283687943262, 15377: 2.8225806451612905, 15378: 3.4782608695652173, 15381: 3.8574468085106384, 15385: 3.677165354330709, 15387: 3.3181818181818183, 15392: 3.9166666666666665, 15393: 3.484, 15394: 3.6806550665301945, 15404: 3.227272727272727, 15409: 3.3349056603773586, 15410: 3.2666666666666666, 15421: 3.897222222222222, 15422: 3.522222222222222, 15424: 3.4501510574018126, 15425: 3.6601941747572817, 15429: 3.9318181818181817, 15431: 3.4035087719298245, 15436: 3.693820224719101, 15437: 4.404761904761905, 15440: 3.7224489795918365, 15443: 3.125, 15444: 3.4193548387096775, 15445: 3.435146443514644, 15447: 3.488372093023256, 15449: 3.4950980392156863, 15450: 3.422641509433962, 15455: 3.5849056603773586, 15457: 3.576923076923077, 15460: 3.575, 15464: 3.48, 15465: 3.140401146131805, 15471: 3.119275825346113, 15472: 3.61698956780924, 15473: 3.329896907216495, 15474: 3.0421686746987953, 15477: 3.3513513513513513, 15481: 3.1262135922330097, 15482: 4.0, 15483: 3.3214285714285716, 15484: 3.8125, 15492: 2.9655172413793105, 15493: 2.9705882352941178, 15496: 3.75, 15500: 4.101449275362318, 15507: 3.1153846153846154, 15509: 4.033333333333333, 15511: 3.2448979591836733, 15513: 3.2777777777777777, 15515: 3.611111111111111, 15529: 3.2758620689655173, 15530: 3.8541666666666665, 15531: 3.5534246575342467, 15532: 3.3732193732193734, 15534: 4.434782608695652, 15539: 2.8260869565217392, 15540: 3.4098765432098768, 15542: 3.391304347826087, 15545: 3.5, 15549: 3.3904109589041096, 15555: 3.2222222222222223, 15557: 4.2592592592592595, 15563: 3.391095066185319, 15568: 4.132075471698113, 15570: 3.225806451612903, 15576: 3.6666666666666665, 15578: 3.6176470588235294, 15582: 3.4272419627749575, 15592: 3.5714285714285716, 15594: 4.203883495145631, 15597: 3.4878048780487805, 15609: 4.471014492753623, 15616: 3.5, 15619: 2.806451612903226, 15627: 3.9115646258503403, 15628: 3.2790697674418605, 15631: 3.5728155339805827, 15634: 3.8548387096774195, 15643: 3.82, 15646: 3.257372654155496, 15647: 3.053763440860215, 15657: 3.725, 15662: 3.923076923076923, 15671: 3.5325779036827196, 15674: 3.5228215767634854, 15677: 3.5428571428571427, 15689: 3.9886363636363638, 15698: 2.3333333333333335, 15699: 3.9516129032258065, 15700: 3.8197674418604652, 15702: 3.897106109324759, 15712: 3.1333333333333333, 15715: 3.5091463414634148, 15720: 3.6956521739130435, 15724: 3.6842105263157894, 15727: 4.244897959183674, 15729: 4.051282051282051, 15730: 3.183246073298429, 15733: 3.6751054852320677, 15736: 3.348314606741573, 15739: 3.723404255319149, 15741: 2.891891891891892, 15747: 3.7083333333333335, 15748: 3.0228571428571427, 15750: 3.36734693877551, 15753: 3.452830188679245, 15755: 3.888983774551665, 15758: 4.0511278195488725, 15759: 2.7096774193548385, 15764: 2.959114139693356, 15769: 3.9239130434782608, 15772: 3.3666666666666667, 15773: 4.295081967213115, 15774: 3.2588235294117647, 15777: 4.4051282051282055, 15784: 4.072289156626506, 15786: 3.8833333333333333, 15787: 3.430379746835443, 15788: 3.4401260504201683, 15798: 3.6, 15800: 3.5762711864406778, 15802: 4.17741935483871, 15803: 3.058333333333333, 15805: 3.375, 15807: 3.954337899543379, 15808: 3.3035714285714284, 15813: 3.050541516245487, 15814: 4.0, 15815: 3.289473684210526, 15816: 3.5992779783393503, 15818: 3.730017761989343, 15820: 3.010752688172043, 15825: 3.6607142857142856, 15829: 3.0491803278688523, 15830: 3.608695652173913, 15836: 4.116666666666666, 15841: 3.4651162790697674, 15843: 3.0656565656565657, 15844: 4.10456062291435, 15846: 4.03030303030303, 15848: 3.6315789473684212, 15853: 3.45, 15855: 3.774193548387097, 15856: 3.4615384615384617, 15858: 3.966666666666667, 15861: 4.528301886792453, 15862: 3.318840579710145, 15867: 3.046511627906977, 15868: 3.6, 15871: 3.943396226415094, 15875: 3.4166666666666665, 15876: 3.671232876712329, 15885: 3.4716981132075473, 15887: 3.207718501702611, 15888: 2.8333333333333335, 15890: 3.857142857142857, 15893: 3.515151515151515, 15894: 3.5055762081784385, 15898: 4.0606060606060606, 15901: 3.1666666666666665, 15902: 4.026239067055394, 15908: 3.388888888888889, 15909: 3.0833333333333335, 15913: 2.6666666666666665, 15917: 3.8055555555555554, 15919: 3.3138686131386863, 15922: 3.843980343980344, 15939: 3.707692307692308, 15940: 3.4285714285714284, 15945: 3.1884057971014492, 15947: 4.4, 15949: 3.4745762711864407, 15952: 3.3864468864468864, 15953: 3.5481651376146788, 15955: 3.5084745762711864, 15956: 3.5771604938271606, 15957: 3.9565217391304346, 15958: 2.411764705882353, 15962: 3.3333333333333335, 15966: 2.9036144578313254, 15967: 3.526315789473684, 15968: 3.308641975308642, 15969: 3.632911392405063, 15974: 3.688311688311688, 15975: 3.8698224852071004, 15979: 3.6136363636363638, 15985: 3.6984126984126986, 15991: 3.575, 15997: 3.911854103343465, 15999: 3.8484848484848486, 16002: 3.536723163841808, 16006: 4.408, 16008: 3.841628959276018, 16016: 3.2794117647058822, 16022: 4.4, 16025: 2.973684210526316, 16030: 3.0317460317460316, 16033: 3.546875, 16037: 3.3466666666666667, 16041: 3.129032258064516, 16046: 3.2222222222222223, 16047: 3.7482517482517483, 16050: 3.4864864864864864, 16052: 3.8155339805825244, 16062: 3.6375, 16063: 3.938517179023508, 16068: 3.5405405405405403, 16075: 3.7252747252747254, 16082: 3.559550561797753, 16083: 4.225806451612903, 16090: 2.4791666666666665, 16094: 3.1538461538461537, 16100: 3.942857142857143, 16103: 4.055555555555555, 16107: 4.1571428571428575, 16113: 3.117283950617284, 16118: 3.152542372881356, 16128: 3.8333333333333335, 16139: 3.5252225519287834, 16143: 3.227272727272727, 16146: 2.1492537313432836, 16147: 4.452153110047847, 16149: 3.3684210526315788, 16150: 3.7590361445783134, 16153: 3.7454545454545456, 16158: 3.732919254658385, 16169: 3.0074626865671643, 16171: 3.3411764705882354, 16172: 3.6818181818181817, 16175: 3.5454545454545454, 16178: 2.8085106382978724, 16181: 3.3651226158038146, 16182: 3.419753086419753, 16183: 3.9245283018867925, 16185: 3.7704918032786887, 16192: 3.2708333333333335, 16193: 2.4871794871794872, 16199: 3.247311827956989, 16201: 3.9215686274509802, 16203: 3.3184931506849313, 16209: 3.2941176470588234, 16215: 3.2777777777777777, 16220: 3.604651162790698, 16222: 3.49468085106383, 16223: 4.030737704918033, 16232: 2.5714285714285716, 16233: 3.76158940397351, 16235: 2.0, 16236: 3.4444444444444446, 16237: 4.283018867924528, 16241: 4.012820512820513, 16242: 3.3751010509296684, 16259: 3.5652173913043477, 16260: 3.6842105263157894, 16262: 3.4147157190635453, 16264: 3.888888888888889, 16265: 4.498883928571429, 16267: 3.0357142857142856, 16272: 3.924586776859504, 16273: 3.1363636363636362, 16278: 3.9197080291970803, 16279: 2.7241379310344827, 16280: 3.45, 16281: 3.760233918128655, 16283: 2.4444444444444446, 16285: 4.0, 16286: 3.583989501312336, 16288: 2.775, 16291: 3.3214285714285716, 16292: 4.12962962962963, 16293: 3.1578947368421053, 16298: 2.7049180327868854, 16302: 4.4071428571428575, 16303: 3.466867469879518, 16306: 3.880701754385965, 16307: 3.409448818897638, 16311: 4.0, 16313: 3.857142857142857, 16318: 4.057971014492754, 16320: 4.208333333333333, 16325: 3.5742857142857143, 16329: 3.4482758620689653, 16337: 2.9210526315789473, 16339: 3.332129963898917, 16340: 3.5, 16343: 3.2913385826771653, 16344: 3.1653543307086616, 16348: 2.9696969696969697, 16349: 4.310344827586207, 16350: 3.0508474576271185, 16356: 4.090909090909091, 16357: 3.401554404145078, 16359: 2.9797979797979797, 16361: 3.663716814159292, 16362: 3.1463414634146343, 16363: 4.244186046511628, 16365: 3.5084745762711864, 16366: 3.3796296296296298, 16376: 3.5185185185185186, 16377: 4.283493708364174, 16380: 3.220048899755501, 16382: 4.055555555555555, 16384: 4.021513944223107, 16387: 3.357142857142857, 16388: 2.8333333333333335, 16389: 2.235294117647059, 16390: 3.3555555555555556, 16393: 3.03125, 16394: 4.366666666666666, 16397: 3.948717948717949, 16399: 4.12962962962963, 16400: 4.0344827586206895, 16406: 3.623684210526316, 16412: 3.6666666666666665, 16415: 3.691891891891892, 16418: 3.5517241379310347, 16419: 3.725, 16431: 4.0, 16438: 3.639470782800441, 16439: 3.6666666666666665, 16440: 2.5555555555555554, 16444: 3.1363636363636362, 16445: 2.8916666666666666, 16452: 3.8292682926829267, 16459: 3.1991869918699187, 16460: 3.763888888888889, 16461: 3.1219512195121952, 16463: 3.413793103448276, 16465: 3.5195652173913046, 16468: 3.75, 16469: 3.361244019138756, 16476: 4.05, 16479: 3.3333333333333335, 16491: 4.0212765957446805, 16495: 3.8830409356725144, 16497: 3.3846153846153846, 16499: 3.8040089086859687, 16500: 3.176470588235294, 16516: 3.1732673267326734, 16522: 3.506172839506173, 16523: 3.1515151515151514, 16524: 4.088888888888889, 16525: 3.59375, 16532: 3.636111111111111, 16534: 3.3076923076923075, 16535: 3.109375, 16538: 3.3728070175438596, 16544: 3.3461538461538463, 16547: 3.36, 16548: 3.5106382978723403, 16550: 3.3, 16551: 3.04, 16552: 3.61010101010101, 16558: 3.967741935483871, 16564: 3.2, 16565: 3.481907894736842, 16567: 3.923076923076923, 16569: 3.3658536585365852, 16572: 3.1496598639455784, 16579: 3.1363636363636362, 16580: 3.885496183206107, 16587: 4.5931372549019605, 16588: 2.9375, 16593: 3.8333333333333335, 16596: 3.752212389380531, 16604: 4.001694915254237, 16605: 3.919254658385093, 16606: 3.402173913043478, 16607: 3.6862745098039214, 16615: 4.1923076923076925, 16616: 3.4545454545454546, 16622: 3.4705882352941178, 16628: 3.55, 16629: 3.7222222222222223, 16630: 3.175, 16634: 3.9150943396226414, 16637: 2.9705882352941178, 16640: 3.044182621502209, 16641: 3.1908396946564888, 16643: 3.4210526315789473, 16644: 3.972413793103448, 16649: 3.9166666666666665, 16660: 3.8219178082191783, 16662: 3.4864864864864864, 16668: 3.9488330341113107, 16671: 3.9, 16676: 3.096774193548387, 16687: 4.146341463414634, 16695: 3.3870967741935485, 16698: 3.886746987951807, 16700: 4.186046511627907, 16701: 3.0833333333333335, 16702: 3.4166666666666665, 16703: 3.580808080808081, 16705: 3.4285714285714284, 16707: 3.6527093596059115, 16709: 3.5641025641025643, 16711: 4.3256578947368425, 16713: 3.3671875, 16718: 3.44, 16721: 3.8122362869198314, 16724: 4.0, 16731: 4.086956521739131, 16733: 3.857142857142857, 16734: 3.806451612903226, 16740: 3.3678343949044587, 16742: 2.6055045871559632, 16745: 4.0, 16751: 3.0, 16755: 3.462962962962963, 16756: 3.0, 16760: 3.360655737704918, 16765: 3.607074569789675, 16767: 3.6610878661087867, 16768: 3.1707317073170733, 16770: 3.264957264957265, 16775: 3.176470588235294, 16784: 3.6933333333333334, 16788: 3.3727272727272726, 16790: 3.2613636363636362, 16791: 3.3194444444444446, 16792: 3.638205499276411, 16793: 3.86056338028169, 16794: 2.6545454545454548, 16796: 3.8767123287671232, 16809: 3.1923076923076925, 16810: 3.9615384615384617, 16822: 3.7037037037037037, 16825: 3.584178498985801, 16834: 3.769230769230769, 16840: 3.73, 16847: 3.9714285714285715, 16848: 2.8043478260869565, 16856: 3.2162162162162162, 16858: 2.948051948051948, 16859: 3.316546762589928, 16860: 4.203125, 16861: 3.5714285714285716, 16862: 3.8620689655172415, 16864: 3.36144578313253, 16865: 3.027027027027027, 16869: 3.338129496402878, 16870: 2.5, 16871: 3.4615384615384617, 16872: 4.040247678018575, 16879: 3.676605504587156, 16882: 3.058087578194817, 16883: 3.4814814814814814, 16885: 3.4857142857142858, 16887: 3.3, 16889: 3.9622641509433962, 16890: 3.2413793103448274, 16891: 3.5270935960591134, 16901: 3.227598566308244, 16903: 3.912280701754386, 16905: 3.2083333333333335, 16907: 3.7777777777777777, 16908: 3.0, 16912: 3.4344978165938866, 16913: 3.6666666666666665, 16917: 3.782608695652174, 16918: 4.068965517241379, 16920: 4.405405405405405, 16922: 3.4271844660194173, 16926: 2.896551724137931, 16930: 3.072961373390558, 16931: 3.5714285714285716, 16936: 2.911764705882353, 16937: 3.740740740740741, 16939: 3.32, 16944: 2.836734693877551, 16946: 3.8813559322033897, 16947: 3.608695652173913, 16948: 3.2127659574468086, 16952: 3.480769230769231, 16954: 4.335218093699515, 16967: 3.2641509433962264, 16969: 3.8846153846153846, 16970: 2.8, 16977: 3.1955555555555555, 16984: 3.2482014388489207, 16986: 3.85, 16991: 3.0454545454545454, 16992: 3.546075085324232, 16994: 4.079268292682927, 16995: 3.7662337662337664, 16997: 3.4042056074766354, 17002: 3.6345514950166113, 17003: 4.2, 17004: 3.6759002770083105, 17008: 3.5080213903743314, 17009: 3.090909090909091, 17010: 3.3055555555555554, 17014: 3.066666666666667, 17023: 3.419642857142857, 17026: 3.0555555555555554, 17027: 3.015625, 17031: 3.1716101694915255, 17036: 4.075, 17047: 2.793103448275862, 17050: 3.090909090909091, 17052: 3.8095238095238093, 17053: 3.1327433628318584, 17057: 3.63953488372093, 17062: 2.8125, 17064: 3.513888888888889, 17070: 3.048780487804878, 17071: 3.836734693877551, 17075: 3.037037037037037, 17079: 2.7252747252747254, 17081: 3.529850746268657, 17085: 4.52991452991453, 17088: 3.7688044338875692, 17096: 3.076923076923077, 17097: 3.141304347826087, 17100: 2.9466666666666668, 17103: 3.1142857142857143, 17104: 3.4074074074074074, 17109: 3.652173913043478, 17111: 3.3, 17112: 3.7547169811320753, 17113: 3.3698630136986303, 17117: 3.8181818181818183, 17127: 2.971014492753623, 17129: 3.5548549810844894, 17131: 3.1052631578947367, 17133: 3.6296296296296298, 17134: 3.2494577006507592, 17135: 2.96875, 17136: 3.359550561797753, 17146: 4.3061224489795915, 17147: 3.2333333333333334, 17149: 3.357320099255583, 17152: 3.4060606060606062, 17154: 3.8712041884816752, 17157: 4.238017871649066, 17158: 3.2195121951219514, 17165: 4.202898550724638, 17168: 3.3448275862068964, 17169: 3.71301775147929, 17171: 3.2857142857142856, 17174: 3.897590361445783, 17175: 3.275, 17176: 3.8564356435643563, 17178: 4.303030303030303, 17179: 3.34, 17180: 3.245, 17181: 3.2, 17184: 4.081081081081081, 17187: 4.102362204724409, 17188: 3.7551020408163267, 17189: 3.8359375, 17195: 3.52258064516129, 17196: 3.409090909090909, 17207: 3.6307692307692307, 17211: 3.8518518518518516, 17212: 3.925925925925926, 17215: 3.7785714285714285, 17216: 3.120879120879121, 17219: 4.3584905660377355, 17221: 2.6051502145922747, 17225: 3.8055555555555554, 17229: 3.3529411764705883, 17230: 3.8823529411764706, 17241: 2.71875, 17243: 3.0476190476190474, 17245: 3.8333333333333335, 17247: 3.533333333333333, 17248: 3.5142857142857142, 17249: 3.260869565217391, 17250: 3.8666666666666667, 17251: 3.057017543859649, 17259: 3.802721088435374, 17261: 3.3289473684210527, 17262: 3.3181818181818183, 17263: 3.5588235294117645, 17264: 3.5476190476190474, 17274: 2.52, 17275: 3.75, 17277: 2.857142857142857, 17280: 2.896551724137931, 17281: 2.960674157303371, 17287: 2.933333333333333, 17292: 3.893617021276596, 17293: 3.0416666666666665, 17295: 3.233898305084746, 17299: 3.6214285714285714, 17302: 3.6910569105691056, 17303: 2.8151260504201683, 17307: 4.511111111111111, 17308: 3.5216989843028625, 17311: 4.078947368421052, 17312: 3.255813953488372, 17314: 3.76, 17319: 3.7422360248447206, 17320: 2.5925925925925926, 17321: 3.7540983606557377, 17323: 2.9318181818181817, 17324: 3.8584686774941996, 17328: 4.162295081967213, 17330: 3.372137404580153, 17335: 3.891891891891892, 17338: 3.033333333333333, 17339: 4.100128369704749, 17341: 3.452054794520548, 17343: 3.3363636363636364, 17346: 3.684587813620072, 17355: 3.5650557620817844, 17357: 3.4047619047619047, 17358: 3.2453703703703702, 17361: 2.946308724832215, 17379: 3.25, 17381: 3.952191235059761, 17385: 2.854368932038835, 17387: 3.4644808743169397, 17393: 2.4583333333333335, 17395: 3.1463414634146343, 17396: 3.0294117647058822, 17397: 4.016129032258065, 17398: 3.033112582781457, 17401: 3.303030303030303, 17402: 3.9833333333333334, 17403: 3.857142857142857, 17405: 3.555992141453831, 17409: 2.7222222222222223, 17411: 3.8295454545454546, 17412: 4.112582781456954, 17418: 3.6363636363636362, 17423: 3.5121951219512195, 17424: 3.9690402476780187, 17426: 3.757396449704142, 17428: 2.9310344827586206, 17431: 3.8309859154929575, 17434: 3.1627906976744184, 17435: 3.75, 17437: 3.64, 17438: 3.9545454545454546, 17441: 3.6435406698564594, 17449: 3.871345029239766, 17452: 2.956140350877193, 17453: 2.52, 17460: 4.16, 17467: 3.832116788321168, 17468: 3.6739130434782608, 17469: 3.310344827586207, 17472: 3.7900552486187844, 17474: 4.136476426799008, 17479: 3.49438202247191, 17480: 4.298701298701299, 17481: 2.75, 17482: 3.555133079847909, 17491: 3.276190476190476, 17492: 3.1666666666666665, 17494: 3.598360655737705, 17495: 3.0833333333333335, 17498: 2.816326530612245, 17499: 4.010695187165775, 17506: 3.0604026845637584, 17508: 3.8078602620087336, 17513: 3.449612403100775, 17525: 3.5714285714285716, 17526: 3.876543209876543, 17529: 2.696969696969697, 17533: 3.6635944700460827, 17535: 3.5806451612903225, 17536: 3.9761904761904763, 17537: 3.4329501915708813, 17539: 3.397590361445783, 17540: 3.423076923076923, 17541: 3.3700440528634363, 17546: 3.466666666666667, 17549: 3.5588235294117645, 17555: 3.5217391304347827, 17558: 3.4405940594059405, 17559: 3.3008849557522124, 17560: 3.8614982578397212, 17561: 3.380952380952381, 17562: 3.3333333333333335, 17563: 3.586206896551724, 17565: 2.901840490797546, 17570: 4.181818181818182, 17572: 3.4705882352941178, 17573: 3.4166666666666665, 17574: 3.653409090909091, 17578: 3.4919354838709675, 17580: 3.07035175879397, 17586: 2.7093023255813953, 17589: 2.9329608938547485, 17591: 3.8739495798319328, 17597: 3.5161290322580645, 17603: 3.0825688073394497, 17612: 4.088235294117647, 17614: 3.257142857142857, 17619: 4.25, 17621: 3.457700650759219, 17622: 3.086131386861314, 17624: 3.4347826086956523, 17625: 3.1470588235294117, 17627: 4.028756957328386, 17628: 3.925373134328358, 17631: 3.63265306122449, 17632: 4.048780487804878, 17633: 3.511627906976744, 17638: 3.318840579710145, 17641: 4.095238095238095, 17642: 3.6666666666666665, 17649: 3.3488372093023258, 17653: 3.3142857142857145, 17654: 3.0, 17661: 4.24, 17662: 3.0793650793650795, 17671: 3.7053140096618358, 17672: 3.7005988023952097, 17675: 3.057142857142857, 17681: 3.8484848484848486, 17682: 4.460992907801418, 17687: 4.530120481927711, 17692: 3.0259067357512954, 17693: 2.945945945945946, 17697: 2.953125, 17701: 3.08, 17703: 2.771505376344086, 17707: 3.7966101694915255, 17709: 3.7916666666666665, 17711: 2.7857142857142856, 17714: 4.042553191489362, 17716: 3.923076923076923, 17723: 3.676470588235294, 17724: 3.814159292035398, 17725: 3.5555555555555554, 17730: 3.388888888888889, 17741: 3.15, 17743: 3.014925373134328, 17751: 3.6551724137931036, 17756: 3.7738095238095237, 17758: 2.4285714285714284, 17761: 2.8333333333333335, 17762: 3.572519083969466, 17763: 3.55, 17764: 3.842800528401585, 17769: 2.7176470588235295}\n"
     ]
    }
   ],
   "source": [
    "movie_means_dict = movie_means.to_dict()\n",
    "print(movie_means_dict)"
   ]
  },
  {
   "cell_type": "code",
   "execution_count": 30,
   "metadata": {},
   "outputs": [
    {
     "output_type": "execute_result",
     "data": {
      "text/plain": [
       "CustomerID  6        7        10       79       97       134      169      \\\n",
       "MovieID                                                                     \n",
       "3               NaN      NaN      NaN      NaN      NaN      NaN      NaN   \n",
       "8               NaN      NaN      NaN      NaN      NaN      NaN      NaN   \n",
       "16              NaN      NaN      NaN      NaN      NaN      NaN      NaN   \n",
       "17              NaN      NaN      NaN      NaN      NaN      NaN      NaN   \n",
       "18              NaN      NaN      NaN      NaN      NaN      NaN      NaN   \n",
       "...             ...      ...      ...      ...      ...      ...      ...   \n",
       "17761           NaN      NaN      NaN      NaN      NaN      NaN      NaN   \n",
       "17762           NaN      NaN      NaN      NaN      NaN      NaN      NaN   \n",
       "17763           NaN      NaN      NaN      NaN      NaN      NaN      NaN   \n",
       "17764           NaN      NaN      NaN      NaN      NaN      NaN      NaN   \n",
       "17769           NaN      NaN      NaN      NaN      NaN      NaN      NaN   \n",
       "\n",
       "CustomerID  188      195      199      ...  2649299  2649308  2649328  \\\n",
       "MovieID                                ...                              \n",
       "3               NaN      NaN      NaN  ...      NaN      NaN      NaN   \n",
       "8               NaN      NaN      NaN  ...      NaN      NaN      NaN   \n",
       "16              NaN      NaN      NaN  ...      NaN      NaN      NaN   \n",
       "17              NaN      NaN      NaN  ...      NaN      NaN      NaN   \n",
       "18              NaN      NaN      NaN  ...      NaN      NaN      NaN   \n",
       "...             ...      ...      ...  ...      ...      ...      ...   \n",
       "17761           NaN      NaN      NaN  ...      NaN      NaN      NaN   \n",
       "17762           NaN      NaN      NaN  ...      NaN      NaN      NaN   \n",
       "17763           NaN      NaN      NaN  ...      NaN      NaN      NaN   \n",
       "17764           NaN      NaN      NaN  ...      NaN      NaN      NaN   \n",
       "17769           NaN      NaN      NaN  ...      NaN      NaN      NaN   \n",
       "\n",
       "CustomerID  2649331  2649336  2649370  2649378  2649388  2649426  2649429  \n",
       "MovieID                                                                    \n",
       "3               NaN      NaN      NaN      NaN      NaN      NaN      NaN  \n",
       "8               NaN      NaN      NaN      NaN      NaN      NaN      NaN  \n",
       "16              NaN      NaN      NaN      NaN      NaN      NaN      NaN  \n",
       "17              NaN      NaN      NaN      NaN      NaN      NaN      NaN  \n",
       "18              NaN      NaN      NaN      NaN      NaN      NaN      NaN  \n",
       "...             ...      ...      ...      ...      ...      ...      ...  \n",
       "17761           NaN      NaN      NaN      NaN      NaN      NaN      NaN  \n",
       "17762           NaN      NaN      NaN      NaN      NaN      NaN      NaN  \n",
       "17763           NaN      NaN      NaN      NaN      NaN      NaN      NaN  \n",
       "17764           NaN      NaN      NaN      NaN      NaN      NaN      NaN  \n",
       "17769           NaN      NaN      NaN      NaN      NaN      NaN      NaN  \n",
       "\n",
       "[5332 rows x 142458 columns]"
      ],
      "text/html": "<div>\n<style scoped>\n    .dataframe tbody tr th:only-of-type {\n        vertical-align: middle;\n    }\n\n    .dataframe tbody tr th {\n        vertical-align: top;\n    }\n\n    .dataframe thead th {\n        text-align: right;\n    }\n</style>\n<table border=\"1\" class=\"dataframe\">\n  <thead>\n    <tr style=\"text-align: right;\">\n      <th>CustomerID</th>\n      <th>6</th>\n      <th>7</th>\n      <th>10</th>\n      <th>79</th>\n      <th>97</th>\n      <th>134</th>\n      <th>169</th>\n      <th>188</th>\n      <th>195</th>\n      <th>199</th>\n      <th>...</th>\n      <th>2649299</th>\n      <th>2649308</th>\n      <th>2649328</th>\n      <th>2649331</th>\n      <th>2649336</th>\n      <th>2649370</th>\n      <th>2649378</th>\n      <th>2649388</th>\n      <th>2649426</th>\n      <th>2649429</th>\n    </tr>\n    <tr>\n      <th>MovieID</th>\n      <th></th>\n      <th></th>\n      <th></th>\n      <th></th>\n      <th></th>\n      <th></th>\n      <th></th>\n      <th></th>\n      <th></th>\n      <th></th>\n      <th></th>\n      <th></th>\n      <th></th>\n      <th></th>\n      <th></th>\n      <th></th>\n      <th></th>\n      <th></th>\n      <th></th>\n      <th></th>\n      <th></th>\n    </tr>\n  </thead>\n  <tbody>\n    <tr>\n      <th>3</th>\n      <td>NaN</td>\n      <td>NaN</td>\n      <td>NaN</td>\n      <td>NaN</td>\n      <td>NaN</td>\n      <td>NaN</td>\n      <td>NaN</td>\n      <td>NaN</td>\n      <td>NaN</td>\n      <td>NaN</td>\n      <td>...</td>\n      <td>NaN</td>\n      <td>NaN</td>\n      <td>NaN</td>\n      <td>NaN</td>\n      <td>NaN</td>\n      <td>NaN</td>\n      <td>NaN</td>\n      <td>NaN</td>\n      <td>NaN</td>\n      <td>NaN</td>\n    </tr>\n    <tr>\n      <th>8</th>\n      <td>NaN</td>\n      <td>NaN</td>\n      <td>NaN</td>\n      <td>NaN</td>\n      <td>NaN</td>\n      <td>NaN</td>\n      <td>NaN</td>\n      <td>NaN</td>\n      <td>NaN</td>\n      <td>NaN</td>\n      <td>...</td>\n      <td>NaN</td>\n      <td>NaN</td>\n      <td>NaN</td>\n      <td>NaN</td>\n      <td>NaN</td>\n      <td>NaN</td>\n      <td>NaN</td>\n      <td>NaN</td>\n      <td>NaN</td>\n      <td>NaN</td>\n    </tr>\n    <tr>\n      <th>16</th>\n      <td>NaN</td>\n      <td>NaN</td>\n      <td>NaN</td>\n      <td>NaN</td>\n      <td>NaN</td>\n      <td>NaN</td>\n      <td>NaN</td>\n      <td>NaN</td>\n      <td>NaN</td>\n      <td>NaN</td>\n      <td>...</td>\n      <td>NaN</td>\n      <td>NaN</td>\n      <td>NaN</td>\n      <td>NaN</td>\n      <td>NaN</td>\n      <td>NaN</td>\n      <td>NaN</td>\n      <td>NaN</td>\n      <td>NaN</td>\n      <td>NaN</td>\n    </tr>\n    <tr>\n      <th>17</th>\n      <td>NaN</td>\n      <td>NaN</td>\n      <td>NaN</td>\n      <td>NaN</td>\n      <td>NaN</td>\n      <td>NaN</td>\n      <td>NaN</td>\n      <td>NaN</td>\n      <td>NaN</td>\n      <td>NaN</td>\n      <td>...</td>\n      <td>NaN</td>\n      <td>NaN</td>\n      <td>NaN</td>\n      <td>NaN</td>\n      <td>NaN</td>\n      <td>NaN</td>\n      <td>NaN</td>\n      <td>NaN</td>\n      <td>NaN</td>\n      <td>NaN</td>\n    </tr>\n    <tr>\n      <th>18</th>\n      <td>NaN</td>\n      <td>NaN</td>\n      <td>NaN</td>\n      <td>NaN</td>\n      <td>NaN</td>\n      <td>NaN</td>\n      <td>NaN</td>\n      <td>NaN</td>\n      <td>NaN</td>\n      <td>NaN</td>\n      <td>...</td>\n      <td>NaN</td>\n      <td>NaN</td>\n      <td>NaN</td>\n      <td>NaN</td>\n      <td>NaN</td>\n      <td>NaN</td>\n      <td>NaN</td>\n      <td>NaN</td>\n      <td>NaN</td>\n      <td>NaN</td>\n    </tr>\n    <tr>\n      <th>...</th>\n      <td>...</td>\n      <td>...</td>\n      <td>...</td>\n      <td>...</td>\n      <td>...</td>\n      <td>...</td>\n      <td>...</td>\n      <td>...</td>\n      <td>...</td>\n      <td>...</td>\n      <td>...</td>\n      <td>...</td>\n      <td>...</td>\n      <td>...</td>\n      <td>...</td>\n      <td>...</td>\n      <td>...</td>\n      <td>...</td>\n      <td>...</td>\n      <td>...</td>\n      <td>...</td>\n    </tr>\n    <tr>\n      <th>17761</th>\n      <td>NaN</td>\n      <td>NaN</td>\n      <td>NaN</td>\n      <td>NaN</td>\n      <td>NaN</td>\n      <td>NaN</td>\n      <td>NaN</td>\n      <td>NaN</td>\n      <td>NaN</td>\n      <td>NaN</td>\n      <td>...</td>\n      <td>NaN</td>\n      <td>NaN</td>\n      <td>NaN</td>\n      <td>NaN</td>\n      <td>NaN</td>\n      <td>NaN</td>\n      <td>NaN</td>\n      <td>NaN</td>\n      <td>NaN</td>\n      <td>NaN</td>\n    </tr>\n    <tr>\n      <th>17762</th>\n      <td>NaN</td>\n      <td>NaN</td>\n      <td>NaN</td>\n      <td>NaN</td>\n      <td>NaN</td>\n      <td>NaN</td>\n      <td>NaN</td>\n      <td>NaN</td>\n      <td>NaN</td>\n      <td>NaN</td>\n      <td>...</td>\n      <td>NaN</td>\n      <td>NaN</td>\n      <td>NaN</td>\n      <td>NaN</td>\n      <td>NaN</td>\n      <td>NaN</td>\n      <td>NaN</td>\n      <td>NaN</td>\n      <td>NaN</td>\n      <td>NaN</td>\n    </tr>\n    <tr>\n      <th>17763</th>\n      <td>NaN</td>\n      <td>NaN</td>\n      <td>NaN</td>\n      <td>NaN</td>\n      <td>NaN</td>\n      <td>NaN</td>\n      <td>NaN</td>\n      <td>NaN</td>\n      <td>NaN</td>\n      <td>NaN</td>\n      <td>...</td>\n      <td>NaN</td>\n      <td>NaN</td>\n      <td>NaN</td>\n      <td>NaN</td>\n      <td>NaN</td>\n      <td>NaN</td>\n      <td>NaN</td>\n      <td>NaN</td>\n      <td>NaN</td>\n      <td>NaN</td>\n    </tr>\n    <tr>\n      <th>17764</th>\n      <td>NaN</td>\n      <td>NaN</td>\n      <td>NaN</td>\n      <td>NaN</td>\n      <td>NaN</td>\n      <td>NaN</td>\n      <td>NaN</td>\n      <td>NaN</td>\n      <td>NaN</td>\n      <td>NaN</td>\n      <td>...</td>\n      <td>NaN</td>\n      <td>NaN</td>\n      <td>NaN</td>\n      <td>NaN</td>\n      <td>NaN</td>\n      <td>NaN</td>\n      <td>NaN</td>\n      <td>NaN</td>\n      <td>NaN</td>\n      <td>NaN</td>\n    </tr>\n    <tr>\n      <th>17769</th>\n      <td>NaN</td>\n      <td>NaN</td>\n      <td>NaN</td>\n      <td>NaN</td>\n      <td>NaN</td>\n      <td>NaN</td>\n      <td>NaN</td>\n      <td>NaN</td>\n      <td>NaN</td>\n      <td>NaN</td>\n      <td>...</td>\n      <td>NaN</td>\n      <td>NaN</td>\n      <td>NaN</td>\n      <td>NaN</td>\n      <td>NaN</td>\n      <td>NaN</td>\n      <td>NaN</td>\n      <td>NaN</td>\n      <td>NaN</td>\n      <td>NaN</td>\n    </tr>\n  </tbody>\n</table>\n<p>5332 rows × 142458 columns</p>\n</div>"
     },
     "metadata": {},
     "execution_count": 30
    }
   ],
   "source": [
    "sub_df = df_p_copy.sub(movie_means, axis=0) \n",
    "sub_df"
   ]
  },
  {
   "cell_type": "code",
   "execution_count": 31,
   "metadata": {},
   "outputs": [
    {
     "output_type": "execute_result",
     "data": {
      "text/plain": [
       "MovieID     3      8      16     17     18     26     28       30     33     \\\n",
       "CustomerID                                                                    \n",
       "6             NaN    NaN    NaN    NaN    NaN    NaN    NaN      NaN    NaN   \n",
       "7             NaN    NaN    NaN    NaN    NaN    NaN    NaN      NaN    NaN   \n",
       "10            NaN    NaN    NaN    NaN    NaN    NaN    NaN      NaN    NaN   \n",
       "79            NaN    NaN    NaN    NaN    NaN    NaN    NaN      NaN    NaN   \n",
       "97            NaN    NaN    NaN    NaN    NaN    NaN    NaN      NaN    NaN   \n",
       "...           ...    ...    ...    ...    ...    ...    ...      ...    ...   \n",
       "2649370       NaN    NaN    NaN    NaN    NaN    NaN    NaN      NaN    NaN   \n",
       "2649378       NaN    NaN    NaN    NaN    NaN    NaN    NaN      NaN    NaN   \n",
       "2649388       NaN    NaN    NaN    NaN    NaN    NaN    NaN      NaN    NaN   \n",
       "2649426       NaN    NaN    NaN    NaN    NaN    NaN    NaN      NaN    NaN   \n",
       "2649429       NaN    NaN    NaN    NaN    NaN    NaN    NaN  1.26506    NaN   \n",
       "\n",
       "MovieID     44     ...  17741  17743  17751  17756  17758  17761  17762  \\\n",
       "CustomerID         ...                                                    \n",
       "6             NaN  ...    NaN    NaN    NaN    NaN    NaN    NaN    NaN   \n",
       "7             NaN  ...    NaN    NaN    NaN    NaN    NaN    NaN    NaN   \n",
       "10            NaN  ...    NaN    NaN    NaN    NaN    NaN    NaN    NaN   \n",
       "79            NaN  ...    NaN    NaN    NaN    NaN    NaN    NaN    NaN   \n",
       "97            NaN  ...    NaN    NaN    NaN    NaN    NaN    NaN    NaN   \n",
       "...           ...  ...    ...    ...    ...    ...    ...    ...    ...   \n",
       "2649370       NaN  ...    NaN    NaN    NaN    NaN    NaN    NaN    NaN   \n",
       "2649378       NaN  ...    NaN    NaN    NaN    NaN    NaN    NaN    NaN   \n",
       "2649388       NaN  ...    NaN    NaN    NaN    NaN    NaN    NaN    NaN   \n",
       "2649426       NaN  ...    NaN    NaN    NaN    NaN    NaN    NaN    NaN   \n",
       "2649429       NaN  ...    NaN    NaN    NaN    NaN    NaN    NaN    NaN   \n",
       "\n",
       "MovieID     17763  17764  17769  \n",
       "CustomerID                       \n",
       "6             NaN    NaN    NaN  \n",
       "7             NaN    NaN    NaN  \n",
       "10            NaN    NaN    NaN  \n",
       "79            NaN    NaN    NaN  \n",
       "97            NaN    NaN    NaN  \n",
       "...           ...    ...    ...  \n",
       "2649370       NaN    NaN    NaN  \n",
       "2649378       NaN    NaN    NaN  \n",
       "2649388       NaN    NaN    NaN  \n",
       "2649426       NaN    NaN    NaN  \n",
       "2649429       NaN    NaN    NaN  \n",
       "\n",
       "[142458 rows x 5332 columns]"
      ],
      "text/html": "<div>\n<style scoped>\n    .dataframe tbody tr th:only-of-type {\n        vertical-align: middle;\n    }\n\n    .dataframe tbody tr th {\n        vertical-align: top;\n    }\n\n    .dataframe thead th {\n        text-align: right;\n    }\n</style>\n<table border=\"1\" class=\"dataframe\">\n  <thead>\n    <tr style=\"text-align: right;\">\n      <th>MovieID</th>\n      <th>3</th>\n      <th>8</th>\n      <th>16</th>\n      <th>17</th>\n      <th>18</th>\n      <th>26</th>\n      <th>28</th>\n      <th>30</th>\n      <th>33</th>\n      <th>44</th>\n      <th>...</th>\n      <th>17741</th>\n      <th>17743</th>\n      <th>17751</th>\n      <th>17756</th>\n      <th>17758</th>\n      <th>17761</th>\n      <th>17762</th>\n      <th>17763</th>\n      <th>17764</th>\n      <th>17769</th>\n    </tr>\n    <tr>\n      <th>CustomerID</th>\n      <th></th>\n      <th></th>\n      <th></th>\n      <th></th>\n      <th></th>\n      <th></th>\n      <th></th>\n      <th></th>\n      <th></th>\n      <th></th>\n      <th></th>\n      <th></th>\n      <th></th>\n      <th></th>\n      <th></th>\n      <th></th>\n      <th></th>\n      <th></th>\n      <th></th>\n      <th></th>\n      <th></th>\n    </tr>\n  </thead>\n  <tbody>\n    <tr>\n      <th>6</th>\n      <td>NaN</td>\n      <td>NaN</td>\n      <td>NaN</td>\n      <td>NaN</td>\n      <td>NaN</td>\n      <td>NaN</td>\n      <td>NaN</td>\n      <td>NaN</td>\n      <td>NaN</td>\n      <td>NaN</td>\n      <td>...</td>\n      <td>NaN</td>\n      <td>NaN</td>\n      <td>NaN</td>\n      <td>NaN</td>\n      <td>NaN</td>\n      <td>NaN</td>\n      <td>NaN</td>\n      <td>NaN</td>\n      <td>NaN</td>\n      <td>NaN</td>\n    </tr>\n    <tr>\n      <th>7</th>\n      <td>NaN</td>\n      <td>NaN</td>\n      <td>NaN</td>\n      <td>NaN</td>\n      <td>NaN</td>\n      <td>NaN</td>\n      <td>NaN</td>\n      <td>NaN</td>\n      <td>NaN</td>\n      <td>NaN</td>\n      <td>...</td>\n      <td>NaN</td>\n      <td>NaN</td>\n      <td>NaN</td>\n      <td>NaN</td>\n      <td>NaN</td>\n      <td>NaN</td>\n      <td>NaN</td>\n      <td>NaN</td>\n      <td>NaN</td>\n      <td>NaN</td>\n    </tr>\n    <tr>\n      <th>10</th>\n      <td>NaN</td>\n      <td>NaN</td>\n      <td>NaN</td>\n      <td>NaN</td>\n      <td>NaN</td>\n      <td>NaN</td>\n      <td>NaN</td>\n      <td>NaN</td>\n      <td>NaN</td>\n      <td>NaN</td>\n      <td>...</td>\n      <td>NaN</td>\n      <td>NaN</td>\n      <td>NaN</td>\n      <td>NaN</td>\n      <td>NaN</td>\n      <td>NaN</td>\n      <td>NaN</td>\n      <td>NaN</td>\n      <td>NaN</td>\n      <td>NaN</td>\n    </tr>\n    <tr>\n      <th>79</th>\n      <td>NaN</td>\n      <td>NaN</td>\n      <td>NaN</td>\n      <td>NaN</td>\n      <td>NaN</td>\n      <td>NaN</td>\n      <td>NaN</td>\n      <td>NaN</td>\n      <td>NaN</td>\n      <td>NaN</td>\n      <td>...</td>\n      <td>NaN</td>\n      <td>NaN</td>\n      <td>NaN</td>\n      <td>NaN</td>\n      <td>NaN</td>\n      <td>NaN</td>\n      <td>NaN</td>\n      <td>NaN</td>\n      <td>NaN</td>\n      <td>NaN</td>\n    </tr>\n    <tr>\n      <th>97</th>\n      <td>NaN</td>\n      <td>NaN</td>\n      <td>NaN</td>\n      <td>NaN</td>\n      <td>NaN</td>\n      <td>NaN</td>\n      <td>NaN</td>\n      <td>NaN</td>\n      <td>NaN</td>\n      <td>NaN</td>\n      <td>...</td>\n      <td>NaN</td>\n      <td>NaN</td>\n      <td>NaN</td>\n      <td>NaN</td>\n      <td>NaN</td>\n      <td>NaN</td>\n      <td>NaN</td>\n      <td>NaN</td>\n      <td>NaN</td>\n      <td>NaN</td>\n    </tr>\n    <tr>\n      <th>...</th>\n      <td>...</td>\n      <td>...</td>\n      <td>...</td>\n      <td>...</td>\n      <td>...</td>\n      <td>...</td>\n      <td>...</td>\n      <td>...</td>\n      <td>...</td>\n      <td>...</td>\n      <td>...</td>\n      <td>...</td>\n      <td>...</td>\n      <td>...</td>\n      <td>...</td>\n      <td>...</td>\n      <td>...</td>\n      <td>...</td>\n      <td>...</td>\n      <td>...</td>\n      <td>...</td>\n    </tr>\n    <tr>\n      <th>2649370</th>\n      <td>NaN</td>\n      <td>NaN</td>\n      <td>NaN</td>\n      <td>NaN</td>\n      <td>NaN</td>\n      <td>NaN</td>\n      <td>NaN</td>\n      <td>NaN</td>\n      <td>NaN</td>\n      <td>NaN</td>\n      <td>...</td>\n      <td>NaN</td>\n      <td>NaN</td>\n      <td>NaN</td>\n      <td>NaN</td>\n      <td>NaN</td>\n      <td>NaN</td>\n      <td>NaN</td>\n      <td>NaN</td>\n      <td>NaN</td>\n      <td>NaN</td>\n    </tr>\n    <tr>\n      <th>2649378</th>\n      <td>NaN</td>\n      <td>NaN</td>\n      <td>NaN</td>\n      <td>NaN</td>\n      <td>NaN</td>\n      <td>NaN</td>\n      <td>NaN</td>\n      <td>NaN</td>\n      <td>NaN</td>\n      <td>NaN</td>\n      <td>...</td>\n      <td>NaN</td>\n      <td>NaN</td>\n      <td>NaN</td>\n      <td>NaN</td>\n      <td>NaN</td>\n      <td>NaN</td>\n      <td>NaN</td>\n      <td>NaN</td>\n      <td>NaN</td>\n      <td>NaN</td>\n    </tr>\n    <tr>\n      <th>2649388</th>\n      <td>NaN</td>\n      <td>NaN</td>\n      <td>NaN</td>\n      <td>NaN</td>\n      <td>NaN</td>\n      <td>NaN</td>\n      <td>NaN</td>\n      <td>NaN</td>\n      <td>NaN</td>\n      <td>NaN</td>\n      <td>...</td>\n      <td>NaN</td>\n      <td>NaN</td>\n      <td>NaN</td>\n      <td>NaN</td>\n      <td>NaN</td>\n      <td>NaN</td>\n      <td>NaN</td>\n      <td>NaN</td>\n      <td>NaN</td>\n      <td>NaN</td>\n    </tr>\n    <tr>\n      <th>2649426</th>\n      <td>NaN</td>\n      <td>NaN</td>\n      <td>NaN</td>\n      <td>NaN</td>\n      <td>NaN</td>\n      <td>NaN</td>\n      <td>NaN</td>\n      <td>NaN</td>\n      <td>NaN</td>\n      <td>NaN</td>\n      <td>...</td>\n      <td>NaN</td>\n      <td>NaN</td>\n      <td>NaN</td>\n      <td>NaN</td>\n      <td>NaN</td>\n      <td>NaN</td>\n      <td>NaN</td>\n      <td>NaN</td>\n      <td>NaN</td>\n      <td>NaN</td>\n    </tr>\n    <tr>\n      <th>2649429</th>\n      <td>NaN</td>\n      <td>NaN</td>\n      <td>NaN</td>\n      <td>NaN</td>\n      <td>NaN</td>\n      <td>NaN</td>\n      <td>NaN</td>\n      <td>1.26506</td>\n      <td>NaN</td>\n      <td>NaN</td>\n      <td>...</td>\n      <td>NaN</td>\n      <td>NaN</td>\n      <td>NaN</td>\n      <td>NaN</td>\n      <td>NaN</td>\n      <td>NaN</td>\n      <td>NaN</td>\n      <td>NaN</td>\n      <td>NaN</td>\n      <td>NaN</td>\n    </tr>\n  </tbody>\n</table>\n<p>142458 rows × 5332 columns</p>\n</div>"
     },
     "metadata": {},
     "execution_count": 31
    }
   ],
   "source": [
    "sub_df = sub_df.transpose()\n",
    "sub_df"
   ]
  },
  {
   "cell_type": "code",
   "execution_count": 34,
   "metadata": {},
   "outputs": [],
   "source": [
    "sub_df.fillna(value=movie_means, inplace= True)"
   ]
  },
  {
   "cell_type": "code",
   "execution_count": 36,
   "metadata": {},
   "outputs": [
    {
     "output_type": "execute_result",
     "data": {
      "text/plain": [
       "MovieID     3         8         16       17        18        26       28     \\\n",
       "CustomerID                                                                    \n",
       "6             3.6  2.874016  3.066667  2.87037  3.762821  2.787234  3.85618   \n",
       "7             3.6  2.874016  3.066667  2.87037  3.762821  2.787234  3.85618   \n",
       "10            3.6  2.874016  3.066667  2.87037  3.762821  2.787234  3.85618   \n",
       "79            3.6  2.874016  3.066667  2.87037  3.762821  2.787234  3.85618   \n",
       "97            3.6  2.874016  3.066667  2.87037  3.762821  2.787234  3.85618   \n",
       "...           ...       ...       ...      ...       ...       ...      ...   \n",
       "2649370       3.6  2.874016  3.066667  2.87037  3.762821  2.787234  3.85618   \n",
       "2649378       3.6  2.874016  3.066667  2.87037  3.762821  2.787234  3.85618   \n",
       "2649388       3.6  2.874016  3.066667  2.87037  3.762821  2.787234  3.85618   \n",
       "2649426       3.6  2.874016  3.066667  2.87037  3.762821  2.787234  3.85618   \n",
       "2649429       3.6  2.874016  3.066667  2.87037  3.762821  2.787234  3.85618   \n",
       "\n",
       "MovieID       30        33        44     ...  17741     17743     17751  \\\n",
       "CustomerID                               ...                              \n",
       "6           3.73494  4.189873  3.689655  ...   3.15  3.014925  3.655172   \n",
       "7           3.73494  4.189873  3.689655  ...   3.15  3.014925  3.655172   \n",
       "10          3.73494  4.189873  3.689655  ...   3.15  3.014925  3.655172   \n",
       "79          3.73494  4.189873  3.689655  ...   3.15  3.014925  3.655172   \n",
       "97          3.73494  4.189873  3.689655  ...   3.15  3.014925  3.655172   \n",
       "...             ...       ...       ...  ...    ...       ...       ...   \n",
       "2649370     3.73494  4.189873  3.689655  ...   3.15  3.014925  3.655172   \n",
       "2649378     3.73494  4.189873  3.689655  ...   3.15  3.014925  3.655172   \n",
       "2649388     3.73494  4.189873  3.689655  ...   3.15  3.014925  3.655172   \n",
       "2649426     3.73494  4.189873  3.689655  ...   3.15  3.014925  3.655172   \n",
       "2649429     1.26506  4.189873  3.689655  ...   3.15  3.014925  3.655172   \n",
       "\n",
       "MovieID       17756     17758     17761     17762  17763     17764     17769  \n",
       "CustomerID                                                                    \n",
       "6           3.77381  2.428571  2.833333  3.572519   3.55  3.842801  2.717647  \n",
       "7           3.77381  2.428571  2.833333  3.572519   3.55  3.842801  2.717647  \n",
       "10          3.77381  2.428571  2.833333  3.572519   3.55  3.842801  2.717647  \n",
       "79          3.77381  2.428571  2.833333  3.572519   3.55  3.842801  2.717647  \n",
       "97          3.77381  2.428571  2.833333  3.572519   3.55  3.842801  2.717647  \n",
       "...             ...       ...       ...       ...    ...       ...       ...  \n",
       "2649370     3.77381  2.428571  2.833333  3.572519   3.55  3.842801  2.717647  \n",
       "2649378     3.77381  2.428571  2.833333  3.572519   3.55  3.842801  2.717647  \n",
       "2649388     3.77381  2.428571  2.833333  3.572519   3.55  3.842801  2.717647  \n",
       "2649426     3.77381  2.428571  2.833333  3.572519   3.55  3.842801  2.717647  \n",
       "2649429     3.77381  2.428571  2.833333  3.572519   3.55  3.842801  2.717647  \n",
       "\n",
       "[142458 rows x 5332 columns]"
      ],
      "text/html": "<div>\n<style scoped>\n    .dataframe tbody tr th:only-of-type {\n        vertical-align: middle;\n    }\n\n    .dataframe tbody tr th {\n        vertical-align: top;\n    }\n\n    .dataframe thead th {\n        text-align: right;\n    }\n</style>\n<table border=\"1\" class=\"dataframe\">\n  <thead>\n    <tr style=\"text-align: right;\">\n      <th>MovieID</th>\n      <th>3</th>\n      <th>8</th>\n      <th>16</th>\n      <th>17</th>\n      <th>18</th>\n      <th>26</th>\n      <th>28</th>\n      <th>30</th>\n      <th>33</th>\n      <th>44</th>\n      <th>...</th>\n      <th>17741</th>\n      <th>17743</th>\n      <th>17751</th>\n      <th>17756</th>\n      <th>17758</th>\n      <th>17761</th>\n      <th>17762</th>\n      <th>17763</th>\n      <th>17764</th>\n      <th>17769</th>\n    </tr>\n    <tr>\n      <th>CustomerID</th>\n      <th></th>\n      <th></th>\n      <th></th>\n      <th></th>\n      <th></th>\n      <th></th>\n      <th></th>\n      <th></th>\n      <th></th>\n      <th></th>\n      <th></th>\n      <th></th>\n      <th></th>\n      <th></th>\n      <th></th>\n      <th></th>\n      <th></th>\n      <th></th>\n      <th></th>\n      <th></th>\n      <th></th>\n    </tr>\n  </thead>\n  <tbody>\n    <tr>\n      <th>6</th>\n      <td>3.6</td>\n      <td>2.874016</td>\n      <td>3.066667</td>\n      <td>2.87037</td>\n      <td>3.762821</td>\n      <td>2.787234</td>\n      <td>3.85618</td>\n      <td>3.73494</td>\n      <td>4.189873</td>\n      <td>3.689655</td>\n      <td>...</td>\n      <td>3.15</td>\n      <td>3.014925</td>\n      <td>3.655172</td>\n      <td>3.77381</td>\n      <td>2.428571</td>\n      <td>2.833333</td>\n      <td>3.572519</td>\n      <td>3.55</td>\n      <td>3.842801</td>\n      <td>2.717647</td>\n    </tr>\n    <tr>\n      <th>7</th>\n      <td>3.6</td>\n      <td>2.874016</td>\n      <td>3.066667</td>\n      <td>2.87037</td>\n      <td>3.762821</td>\n      <td>2.787234</td>\n      <td>3.85618</td>\n      <td>3.73494</td>\n      <td>4.189873</td>\n      <td>3.689655</td>\n      <td>...</td>\n      <td>3.15</td>\n      <td>3.014925</td>\n      <td>3.655172</td>\n      <td>3.77381</td>\n      <td>2.428571</td>\n      <td>2.833333</td>\n      <td>3.572519</td>\n      <td>3.55</td>\n      <td>3.842801</td>\n      <td>2.717647</td>\n    </tr>\n    <tr>\n      <th>10</th>\n      <td>3.6</td>\n      <td>2.874016</td>\n      <td>3.066667</td>\n      <td>2.87037</td>\n      <td>3.762821</td>\n      <td>2.787234</td>\n      <td>3.85618</td>\n      <td>3.73494</td>\n      <td>4.189873</td>\n      <td>3.689655</td>\n      <td>...</td>\n      <td>3.15</td>\n      <td>3.014925</td>\n      <td>3.655172</td>\n      <td>3.77381</td>\n      <td>2.428571</td>\n      <td>2.833333</td>\n      <td>3.572519</td>\n      <td>3.55</td>\n      <td>3.842801</td>\n      <td>2.717647</td>\n    </tr>\n    <tr>\n      <th>79</th>\n      <td>3.6</td>\n      <td>2.874016</td>\n      <td>3.066667</td>\n      <td>2.87037</td>\n      <td>3.762821</td>\n      <td>2.787234</td>\n      <td>3.85618</td>\n      <td>3.73494</td>\n      <td>4.189873</td>\n      <td>3.689655</td>\n      <td>...</td>\n      <td>3.15</td>\n      <td>3.014925</td>\n      <td>3.655172</td>\n      <td>3.77381</td>\n      <td>2.428571</td>\n      <td>2.833333</td>\n      <td>3.572519</td>\n      <td>3.55</td>\n      <td>3.842801</td>\n      <td>2.717647</td>\n    </tr>\n    <tr>\n      <th>97</th>\n      <td>3.6</td>\n      <td>2.874016</td>\n      <td>3.066667</td>\n      <td>2.87037</td>\n      <td>3.762821</td>\n      <td>2.787234</td>\n      <td>3.85618</td>\n      <td>3.73494</td>\n      <td>4.189873</td>\n      <td>3.689655</td>\n      <td>...</td>\n      <td>3.15</td>\n      <td>3.014925</td>\n      <td>3.655172</td>\n      <td>3.77381</td>\n      <td>2.428571</td>\n      <td>2.833333</td>\n      <td>3.572519</td>\n      <td>3.55</td>\n      <td>3.842801</td>\n      <td>2.717647</td>\n    </tr>\n    <tr>\n      <th>...</th>\n      <td>...</td>\n      <td>...</td>\n      <td>...</td>\n      <td>...</td>\n      <td>...</td>\n      <td>...</td>\n      <td>...</td>\n      <td>...</td>\n      <td>...</td>\n      <td>...</td>\n      <td>...</td>\n      <td>...</td>\n      <td>...</td>\n      <td>...</td>\n      <td>...</td>\n      <td>...</td>\n      <td>...</td>\n      <td>...</td>\n      <td>...</td>\n      <td>...</td>\n      <td>...</td>\n    </tr>\n    <tr>\n      <th>2649370</th>\n      <td>3.6</td>\n      <td>2.874016</td>\n      <td>3.066667</td>\n      <td>2.87037</td>\n      <td>3.762821</td>\n      <td>2.787234</td>\n      <td>3.85618</td>\n      <td>3.73494</td>\n      <td>4.189873</td>\n      <td>3.689655</td>\n      <td>...</td>\n      <td>3.15</td>\n      <td>3.014925</td>\n      <td>3.655172</td>\n      <td>3.77381</td>\n      <td>2.428571</td>\n      <td>2.833333</td>\n      <td>3.572519</td>\n      <td>3.55</td>\n      <td>3.842801</td>\n      <td>2.717647</td>\n    </tr>\n    <tr>\n      <th>2649378</th>\n      <td>3.6</td>\n      <td>2.874016</td>\n      <td>3.066667</td>\n      <td>2.87037</td>\n      <td>3.762821</td>\n      <td>2.787234</td>\n      <td>3.85618</td>\n      <td>3.73494</td>\n      <td>4.189873</td>\n      <td>3.689655</td>\n      <td>...</td>\n      <td>3.15</td>\n      <td>3.014925</td>\n      <td>3.655172</td>\n      <td>3.77381</td>\n      <td>2.428571</td>\n      <td>2.833333</td>\n      <td>3.572519</td>\n      <td>3.55</td>\n      <td>3.842801</td>\n      <td>2.717647</td>\n    </tr>\n    <tr>\n      <th>2649388</th>\n      <td>3.6</td>\n      <td>2.874016</td>\n      <td>3.066667</td>\n      <td>2.87037</td>\n      <td>3.762821</td>\n      <td>2.787234</td>\n      <td>3.85618</td>\n      <td>3.73494</td>\n      <td>4.189873</td>\n      <td>3.689655</td>\n      <td>...</td>\n      <td>3.15</td>\n      <td>3.014925</td>\n      <td>3.655172</td>\n      <td>3.77381</td>\n      <td>2.428571</td>\n      <td>2.833333</td>\n      <td>3.572519</td>\n      <td>3.55</td>\n      <td>3.842801</td>\n      <td>2.717647</td>\n    </tr>\n    <tr>\n      <th>2649426</th>\n      <td>3.6</td>\n      <td>2.874016</td>\n      <td>3.066667</td>\n      <td>2.87037</td>\n      <td>3.762821</td>\n      <td>2.787234</td>\n      <td>3.85618</td>\n      <td>3.73494</td>\n      <td>4.189873</td>\n      <td>3.689655</td>\n      <td>...</td>\n      <td>3.15</td>\n      <td>3.014925</td>\n      <td>3.655172</td>\n      <td>3.77381</td>\n      <td>2.428571</td>\n      <td>2.833333</td>\n      <td>3.572519</td>\n      <td>3.55</td>\n      <td>3.842801</td>\n      <td>2.717647</td>\n    </tr>\n    <tr>\n      <th>2649429</th>\n      <td>3.6</td>\n      <td>2.874016</td>\n      <td>3.066667</td>\n      <td>2.87037</td>\n      <td>3.762821</td>\n      <td>2.787234</td>\n      <td>3.85618</td>\n      <td>1.26506</td>\n      <td>4.189873</td>\n      <td>3.689655</td>\n      <td>...</td>\n      <td>3.15</td>\n      <td>3.014925</td>\n      <td>3.655172</td>\n      <td>3.77381</td>\n      <td>2.428571</td>\n      <td>2.833333</td>\n      <td>3.572519</td>\n      <td>3.55</td>\n      <td>3.842801</td>\n      <td>2.717647</td>\n    </tr>\n  </tbody>\n</table>\n<p>142458 rows × 5332 columns</p>\n</div>"
     },
     "metadata": {},
     "execution_count": 36
    }
   ],
   "source": [
    "sub_df"
   ]
  },
  {
   "cell_type": "code",
   "execution_count": null,
   "metadata": {},
   "outputs": [],
   "source": [
    "sample = sub_df.sample(n = 50) \n",
    "sample = sample.sample(n = 50, axis =1) \n",
    "sample"
   ]
  },
  {
   "cell_type": "code",
   "execution_count": 99,
   "metadata": {},
   "outputs": [
    {
     "output_type": "execute_result",
     "data": {
      "text/plain": [
       "CustomerID  6        7        10       79        97       116      134      \\\n",
       "MovieID                                                                      \n",
       "3               NaN      NaN      NaN     3.75  3.854167      NaN      NaN   \n",
       "8               NaN      NaN      NaN     3.75  3.854167      NaN      NaN   \n",
       "16              NaN      NaN      NaN     3.75  3.854167      NaN      NaN   \n",
       "17              NaN      NaN      NaN     3.75  3.854167      NaN      NaN   \n",
       "18              NaN      NaN      NaN     3.75  3.854167      NaN      NaN   \n",
       "...             ...      ...      ...      ...       ...      ...      ...   \n",
       "17761           NaN      NaN      NaN     3.75  3.854167      NaN      NaN   \n",
       "17762           NaN      NaN      NaN     3.75  3.854167      NaN      NaN   \n",
       "17763           NaN      NaN      NaN     3.75  3.854167      NaN      NaN   \n",
       "17764           NaN      NaN      NaN     3.75  3.854167      NaN      NaN   \n",
       "17769           NaN      NaN      NaN     3.75  3.854167      NaN      NaN   \n",
       "\n",
       "CustomerID  169       188      195      ...  2649308  2649328  2649331  \\\n",
       "MovieID                                 ...                              \n",
       "3               NaN  2.590909      NaN  ...      NaN      NaN      NaN   \n",
       "8               NaN  2.590909      NaN  ...      NaN      NaN      NaN   \n",
       "16              NaN  2.590909      NaN  ...      NaN      NaN      NaN   \n",
       "17              NaN  2.590909      NaN  ...      NaN      NaN      NaN   \n",
       "18              NaN  2.590909      NaN  ...      NaN      NaN      NaN   \n",
       "...             ...       ...      ...  ...      ...      ...      ...   \n",
       "17761           NaN  2.590909      NaN  ...      NaN      NaN      NaN   \n",
       "17762           NaN  2.590909      NaN  ...      NaN      NaN      NaN   \n",
       "17763           NaN  2.590909      NaN  ...      NaN      NaN      NaN   \n",
       "17764           NaN  2.590909      NaN  ...      NaN      NaN      NaN   \n",
       "17769           NaN  2.590909      NaN  ...      NaN      NaN      NaN   \n",
       "\n",
       "CustomerID  2649335  2649336  2649370  2649378  2649388  2649426  2649429  \n",
       "MovieID                                                                    \n",
       "3               NaN      NaN      NaN      NaN      NaN      NaN      NaN  \n",
       "8               NaN      NaN      NaN      NaN      NaN      NaN      NaN  \n",
       "16              NaN      NaN      NaN      NaN      NaN      NaN      NaN  \n",
       "17              NaN      NaN      NaN      NaN      NaN      NaN      NaN  \n",
       "18              NaN      NaN      NaN      NaN      NaN      NaN      NaN  \n",
       "...             ...      ...      ...      ...      ...      ...      ...  \n",
       "17761           NaN      NaN      NaN      NaN      NaN      NaN      NaN  \n",
       "17762           NaN      NaN      NaN      NaN      NaN      NaN      NaN  \n",
       "17763           NaN      NaN      NaN      NaN      NaN      NaN      NaN  \n",
       "17764           NaN      NaN      NaN      NaN      NaN      NaN      NaN  \n",
       "17769           NaN      NaN      NaN      NaN      NaN      NaN      NaN  \n",
       "\n",
       "[5332 rows x 142474 columns]"
      ],
      "text/html": "<div>\n<style scoped>\n    .dataframe tbody tr th:only-of-type {\n        vertical-align: middle;\n    }\n\n    .dataframe tbody tr th {\n        vertical-align: top;\n    }\n\n    .dataframe thead th {\n        text-align: right;\n    }\n</style>\n<table border=\"1\" class=\"dataframe\">\n  <thead>\n    <tr style=\"text-align: right;\">\n      <th>CustomerID</th>\n      <th>6</th>\n      <th>7</th>\n      <th>10</th>\n      <th>79</th>\n      <th>97</th>\n      <th>116</th>\n      <th>134</th>\n      <th>169</th>\n      <th>188</th>\n      <th>195</th>\n      <th>...</th>\n      <th>2649308</th>\n      <th>2649328</th>\n      <th>2649331</th>\n      <th>2649335</th>\n      <th>2649336</th>\n      <th>2649370</th>\n      <th>2649378</th>\n      <th>2649388</th>\n      <th>2649426</th>\n      <th>2649429</th>\n    </tr>\n    <tr>\n      <th>MovieID</th>\n      <th></th>\n      <th></th>\n      <th></th>\n      <th></th>\n      <th></th>\n      <th></th>\n      <th></th>\n      <th></th>\n      <th></th>\n      <th></th>\n      <th></th>\n      <th></th>\n      <th></th>\n      <th></th>\n      <th></th>\n      <th></th>\n      <th></th>\n      <th></th>\n      <th></th>\n      <th></th>\n      <th></th>\n    </tr>\n  </thead>\n  <tbody>\n    <tr>\n      <th>3</th>\n      <td>NaN</td>\n      <td>NaN</td>\n      <td>NaN</td>\n      <td>3.75</td>\n      <td>3.854167</td>\n      <td>NaN</td>\n      <td>NaN</td>\n      <td>NaN</td>\n      <td>2.590909</td>\n      <td>NaN</td>\n      <td>...</td>\n      <td>NaN</td>\n      <td>NaN</td>\n      <td>NaN</td>\n      <td>NaN</td>\n      <td>NaN</td>\n      <td>NaN</td>\n      <td>NaN</td>\n      <td>NaN</td>\n      <td>NaN</td>\n      <td>NaN</td>\n    </tr>\n    <tr>\n      <th>8</th>\n      <td>NaN</td>\n      <td>NaN</td>\n      <td>NaN</td>\n      <td>3.75</td>\n      <td>3.854167</td>\n      <td>NaN</td>\n      <td>NaN</td>\n      <td>NaN</td>\n      <td>2.590909</td>\n      <td>NaN</td>\n      <td>...</td>\n      <td>NaN</td>\n      <td>NaN</td>\n      <td>NaN</td>\n      <td>NaN</td>\n      <td>NaN</td>\n      <td>NaN</td>\n      <td>NaN</td>\n      <td>NaN</td>\n      <td>NaN</td>\n      <td>NaN</td>\n    </tr>\n    <tr>\n      <th>16</th>\n      <td>NaN</td>\n      <td>NaN</td>\n      <td>NaN</td>\n      <td>3.75</td>\n      <td>3.854167</td>\n      <td>NaN</td>\n      <td>NaN</td>\n      <td>NaN</td>\n      <td>2.590909</td>\n      <td>NaN</td>\n      <td>...</td>\n      <td>NaN</td>\n      <td>NaN</td>\n      <td>NaN</td>\n      <td>NaN</td>\n      <td>NaN</td>\n      <td>NaN</td>\n      <td>NaN</td>\n      <td>NaN</td>\n      <td>NaN</td>\n      <td>NaN</td>\n    </tr>\n    <tr>\n      <th>17</th>\n      <td>NaN</td>\n      <td>NaN</td>\n      <td>NaN</td>\n      <td>3.75</td>\n      <td>3.854167</td>\n      <td>NaN</td>\n      <td>NaN</td>\n      <td>NaN</td>\n      <td>2.590909</td>\n      <td>NaN</td>\n      <td>...</td>\n      <td>NaN</td>\n      <td>NaN</td>\n      <td>NaN</td>\n      <td>NaN</td>\n      <td>NaN</td>\n      <td>NaN</td>\n      <td>NaN</td>\n      <td>NaN</td>\n      <td>NaN</td>\n      <td>NaN</td>\n    </tr>\n    <tr>\n      <th>18</th>\n      <td>NaN</td>\n      <td>NaN</td>\n      <td>NaN</td>\n      <td>3.75</td>\n      <td>3.854167</td>\n      <td>NaN</td>\n      <td>NaN</td>\n      <td>NaN</td>\n      <td>2.590909</td>\n      <td>NaN</td>\n      <td>...</td>\n      <td>NaN</td>\n      <td>NaN</td>\n      <td>NaN</td>\n      <td>NaN</td>\n      <td>NaN</td>\n      <td>NaN</td>\n      <td>NaN</td>\n      <td>NaN</td>\n      <td>NaN</td>\n      <td>NaN</td>\n    </tr>\n    <tr>\n      <th>...</th>\n      <td>...</td>\n      <td>...</td>\n      <td>...</td>\n      <td>...</td>\n      <td>...</td>\n      <td>...</td>\n      <td>...</td>\n      <td>...</td>\n      <td>...</td>\n      <td>...</td>\n      <td>...</td>\n      <td>...</td>\n      <td>...</td>\n      <td>...</td>\n      <td>...</td>\n      <td>...</td>\n      <td>...</td>\n      <td>...</td>\n      <td>...</td>\n      <td>...</td>\n      <td>...</td>\n    </tr>\n    <tr>\n      <th>17761</th>\n      <td>NaN</td>\n      <td>NaN</td>\n      <td>NaN</td>\n      <td>3.75</td>\n      <td>3.854167</td>\n      <td>NaN</td>\n      <td>NaN</td>\n      <td>NaN</td>\n      <td>2.590909</td>\n      <td>NaN</td>\n      <td>...</td>\n      <td>NaN</td>\n      <td>NaN</td>\n      <td>NaN</td>\n      <td>NaN</td>\n      <td>NaN</td>\n      <td>NaN</td>\n      <td>NaN</td>\n      <td>NaN</td>\n      <td>NaN</td>\n      <td>NaN</td>\n    </tr>\n    <tr>\n      <th>17762</th>\n      <td>NaN</td>\n      <td>NaN</td>\n      <td>NaN</td>\n      <td>3.75</td>\n      <td>3.854167</td>\n      <td>NaN</td>\n      <td>NaN</td>\n      <td>NaN</td>\n      <td>2.590909</td>\n      <td>NaN</td>\n      <td>...</td>\n      <td>NaN</td>\n      <td>NaN</td>\n      <td>NaN</td>\n      <td>NaN</td>\n      <td>NaN</td>\n      <td>NaN</td>\n      <td>NaN</td>\n      <td>NaN</td>\n      <td>NaN</td>\n      <td>NaN</td>\n    </tr>\n    <tr>\n      <th>17763</th>\n      <td>NaN</td>\n      <td>NaN</td>\n      <td>NaN</td>\n      <td>3.75</td>\n      <td>3.854167</td>\n      <td>NaN</td>\n      <td>NaN</td>\n      <td>NaN</td>\n      <td>2.590909</td>\n      <td>NaN</td>\n      <td>...</td>\n      <td>NaN</td>\n      <td>NaN</td>\n      <td>NaN</td>\n      <td>NaN</td>\n      <td>NaN</td>\n      <td>NaN</td>\n      <td>NaN</td>\n      <td>NaN</td>\n      <td>NaN</td>\n      <td>NaN</td>\n    </tr>\n    <tr>\n      <th>17764</th>\n      <td>NaN</td>\n      <td>NaN</td>\n      <td>NaN</td>\n      <td>3.75</td>\n      <td>3.854167</td>\n      <td>NaN</td>\n      <td>NaN</td>\n      <td>NaN</td>\n      <td>2.590909</td>\n      <td>NaN</td>\n      <td>...</td>\n      <td>NaN</td>\n      <td>NaN</td>\n      <td>NaN</td>\n      <td>NaN</td>\n      <td>NaN</td>\n      <td>NaN</td>\n      <td>NaN</td>\n      <td>NaN</td>\n      <td>NaN</td>\n      <td>NaN</td>\n    </tr>\n    <tr>\n      <th>17769</th>\n      <td>NaN</td>\n      <td>NaN</td>\n      <td>NaN</td>\n      <td>3.75</td>\n      <td>3.854167</td>\n      <td>NaN</td>\n      <td>NaN</td>\n      <td>NaN</td>\n      <td>2.590909</td>\n      <td>NaN</td>\n      <td>...</td>\n      <td>NaN</td>\n      <td>NaN</td>\n      <td>NaN</td>\n      <td>NaN</td>\n      <td>NaN</td>\n      <td>NaN</td>\n      <td>NaN</td>\n      <td>NaN</td>\n      <td>NaN</td>\n      <td>NaN</td>\n    </tr>\n  </tbody>\n</table>\n<p>5332 rows × 142474 columns</p>\n</div>"
     },
     "metadata": {},
     "execution_count": 99
    }
   ],
   "source": [
    "f = sub_df.replace(np.nan, movie_means)\n",
    "f\n",
    "for index in sub_df.index:\n",
    "    sub_df.loc[index,10] = movie_means[index]"
   ]
  },
  {
   "cell_type": "code",
   "execution_count": null,
   "metadata": {},
   "outputs": [],
   "source": [
    "df_dict = df_p_for_dict.to_dict()\n",
    "df_dict "
   ]
  }
 ]
}