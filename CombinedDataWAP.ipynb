{
 "metadata": {
  "language_info": {
   "codemirror_mode": {
    "name": "ipython",
    "version": 3
   },
   "file_extension": ".py",
   "mimetype": "text/x-python",
   "name": "python",
   "nbconvert_exporter": "python",
   "pygments_lexer": "ipython3",
   "version": "3.8.0-final"
  },
  "orig_nbformat": 2,
  "kernelspec": {
   "name": "Python 3.8.0 64-bit ('env': venv)",
   "display_name": "Python 3.8.0 64-bit ('env': venv)",
   "metadata": {
    "interpreter": {
     "hash": "0a4c4745ad4b634a696b3427c4afc376eafe1af543e5c23d612bc54f320fb0ac"
    }
   }
  }
 },
 "nbformat": 4,
 "nbformat_minor": 2,
 "cells": [
  {
   "cell_type": "code",
   "execution_count": null,
   "metadata": {},
   "outputs": [],
   "source": [
    "# Work in Progress"
   ]
  },
  {
   "cell_type": "code",
   "execution_count": null,
   "metadata": {
    "tags": []
   },
   "outputs": [],
   "source": [
    "# import packages\n",
    "import pandas as pd\n",
    "import numpy as np\n",
    "import seaborn as sns\n",
    "\n",
    "import matplotlib.pyplot as plt\n",
    "import matplotlib.mlab as mlab\n",
    "import matplotlib\n",
    "plt.style.use('ggplot')\n",
    "from matplotlib.pyplot import figure\n",
    "\n",
    "%matplotlib inline\n",
    "matplotlib.rcParams['figure.figsize'] = (12,8)\n",
    "\n",
    "pd.options.mode.chained_assignment = None\n",
    "\n",
    "import time\n",
    "import gc"
   ]
  },
  {
   "cell_type": "code",
   "execution_count": null,
   "metadata": {},
   "outputs": [],
   "source": [
    "start_time = time.time()\n",
    "\n",
    "read_path_csv = '/Users/Subbalakshmi/Desktop/archive/combined_data_1.txt'\n",
    "movieIDIndexes = {}\n",
    "with open(path_csv) as csvinput:\n",
    "    lines = f.readlines()\n",
    "    k = 0\n",
    "    for i in range(10):\n",
    "        print()\n",
    "        if(lines[i].strip().endswith(':')):\n",
    "            if k==0:\n",
    "                firstIndex = i\n",
    "                prevValue = lines[i].strip()[:-1]\n",
    "            else:\n",
    "                movieIDIndexes[i] = prevValue\n",
    "                prevValue = lines[i].strip()[:-1]\n",
    "\n",
    "            k = k+1\n",
    "\n",
    "    OmitIndexesList = list(movieIDIndexes.keys())\n",
    "    OmitIndexesList.append(firstIndex)\n",
    "    print('Time taken:'+str((time.time() - start_time))+' seconds')   \n",
    "    del start_time,prevValue,i,k,f,lines\n",
    "    gc.collect()"
   ]
  },
  {
   "cell_type": "code",
   "execution_count": null,
   "metadata": {},
   "outputs": [],
   "source": [
    "# read part of the data\n",
    "# df = pd.read_csv('/Users/Subbalakshmi/Desktop/archive/combined_data_1.txt',header=None, nrows=10000,skiprows=(lambda x: x in OmitIndexesList),parse_dates=[2],dtype={0: 'int64', 1: 'int64'})"
   ]
  },
  {
   "source": [
    "# read the data in chunks\n",
    "start_time = time.time()\n",
    "\n",
    "chunks = pd.read_csv('/Users/Subbalakshmi/Desktop/archive/combined_data_1.txt',header=None, skiprows=(lambda x: x in OmitIndexesList),parse_dates=[2],dtype={0: 'int64', 1: 'int64'},chunksize=10000)\n",
    "\n",
    "print('Time taken:'+str((time.time() - start_time))+' seconds')  \n"
   ],
   "cell_type": "code",
   "metadata": {
    "tags": []
   },
   "execution_count": null,
   "outputs": []
  },
  {
   "cell_type": "code",
   "execution_count": null,
   "metadata": {},
   "outputs": [],
   "source": [
    "# df = pd.concat(chunks)"
   ]
  },
  {
   "cell_type": "code",
   "execution_count": null,
   "metadata": {},
   "outputs": [],
   "source": [
    "print(df)\n",
    "print(df.shape)\n",
    "print(df.dtypes)"
   ]
  },
  {
   "cell_type": "code",
   "execution_count": null,
   "metadata": {},
   "outputs": [],
   "source": [
    "OmitIndexesList.remove(firstIndex)\n",
    "movieIDsList = []\n",
    "\n",
    "for row in df.index: \n",
    "    res = list(filter(lambda i: i > row, OmitIndexesList))[0]   \n",
    "    movieIDsList.append(movieIDIndexes[res])\n",
    "\n",
    "df[\"MovieID\"] = movieIDsList\n",
    "del movieIDsList,movieIDIndexes,firstIndex,OmitIndexesList,res,row,start_time\n",
    "gc.collect()\n",
    "print(df)\n",
    "print(df.values[9999])"
   ]
  },
  {
   "cell_type": "code",
   "execution_count": null,
   "metadata": {
    "tags": []
   },
   "outputs": [],
   "source": [
    "df.rename(columns={0: \"CustomerID\", 1: \"Rating\", 2:\"Date\"},inplace=True) #Rename Column Names\n",
    "df.info()"
   ]
  },
  {
   "cell_type": "code",
   "execution_count": null,
   "metadata": {},
   "outputs": [],
   "source": [
    "cols = df.columns[:4] # first 4 columns\n",
    "colours = ['#000099', '#ffff00'] # specify the colours - yellow is missing. blue is not missing.\n",
    "sns.heatmap(df[cols].isnull(), cmap=sns.,(colours))"
   ]
  },
  {
   "cell_type": "code",
   "execution_count": null,
   "metadata": {
    "tags": []
   },
   "outputs": [],
   "source": [
    "# if it's a larger dataset and the visualization takes too long can do this.\n",
    "# % of missing.\n",
    "for col in df.columns:\n",
    "    pct_missing = np.mean(df[col].isnull())\n",
    "    print('{} - {}%'.format(col, round(pct_missing*100)))"
   ]
  },
  {
   "cell_type": "code",
   "execution_count": null,
   "metadata": {},
   "outputs": [],
   "source": [
    "# histogram of a particular feature 'Rating'.\n",
    "df['Rating'].hist(bins=100)"
   ]
  },
  {
   "cell_type": "code",
   "execution_count": null,
   "metadata": {},
   "outputs": [],
   "source": [
    "# box plot.\n",
    "df.boxplot(column=['Rating'])"
   ]
  },
  {
   "cell_type": "code",
   "execution_count": null,
   "metadata": {},
   "outputs": [],
   "source": [
    "df['Rating'].describe()"
   ]
  },
  {
   "cell_type": "code",
   "execution_count": null,
   "metadata": {},
   "outputs": [],
   "source": []
  }
 ]
}