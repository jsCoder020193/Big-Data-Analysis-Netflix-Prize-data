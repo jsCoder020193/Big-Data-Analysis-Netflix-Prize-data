{
 "metadata": {
  "language_info": {
   "codemirror_mode": {
    "name": "ipython",
    "version": 3
   },
   "file_extension": ".py",
   "mimetype": "text/x-python",
   "name": "python",
   "nbconvert_exporter": "python",
   "pygments_lexer": "ipython3",
   "version": "3.8.0-final"
  },
  "orig_nbformat": 2,
  "kernelspec": {
   "name": "Python 3.8.0 64-bit ('env': venv)",
   "display_name": "Python 3.8.0 64-bit ('env': venv)",
   "metadata": {
    "interpreter": {
     "hash": "0a4c4745ad4b634a696b3427c4afc376eafe1af543e5c23d612bc54f320fb0ac"
    }
   }
  }
 },
 "nbformat": 4,
 "nbformat_minor": 2,
 "cells": [
  {
   "cell_type": "code",
   "execution_count": null,
   "metadata": {},
   "outputs": [],
   "source": [
    "import dask\n",
    "import dask.dataframe as dd\n",
    "import pandas as pd\n",
    "import time\n",
    "import gc\n",
    "import numpy as np\n",
    "import seaborn as sns"
   ]
  },
  {
   "cell_type": "code",
   "execution_count": null,
   "metadata": {},
   "outputs": [],
   "source": [
    "start_time = time.time()\n",
    "\n",
    "# df = dd.read_csv('/Users/Subbalakshmi/Desktop/archive/combined_data_1.txt',header=None, engine='python',blocksize=16 * 1024 * 1024,skiprows=OmitIndexesList,parse_dates=[2],sample=False)\n",
    "\n",
    "df = dd.read_csv('/Users/Subbalakshmi/Desktop/archive/combined_data_*_v2.csv',header=None,parse_dates=[2],dtype={0: 'int64', 1: 'int64', 3: 'int64'})\n",
    "\n",
    "print('Time taken:'+str((time.time() - start_time))+' seconds')   \n"
   ]
  },
  {
   "cell_type": "code",
   "execution_count": null,
   "metadata": {},
   "outputs": [],
   "source": [
    "df.rename(columns={0: \"CustomerID\", 1: \"Rating\", 2:\"Date\", 3: \"MovieID\"}) #Rename Column Names"
   ]
  },
  {
   "cell_type": "code",
   "execution_count": null,
   "metadata": {},
   "outputs": [],
   "source": [
    "df.head()"
   ]
  },
  {
   "cell_type": "code",
   "execution_count": null,
   "metadata": {},
   "outputs": [],
   "source": [
    "print(df)\n",
    "print(df.shape)\n",
    "print(df.dtypes)\n",
    "# print(df.index)"
   ]
  },
  {
   "cell_type": "code",
   "execution_count": null,
   "metadata": {},
   "outputs": [],
   "source": [
    "df.partitions[70].compute()"
   ]
  },
  {
   "cell_type": "code",
   "execution_count": null,
   "metadata": {},
   "outputs": [],
   "source": [
    "del df\n",
    "gc.collect()"
   ]
  },
  {
   "cell_type": "code",
   "execution_count": null,
   "metadata": {},
   "outputs": [],
   "source": []
  }
 ]
}